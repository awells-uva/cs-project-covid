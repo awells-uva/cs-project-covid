{
 "cells": [
  {
   "cell_type": "code",
   "execution_count": 1,
   "metadata": {},
   "outputs": [],
   "source": [
    "# Default Import\n",
    "import os\n",
    "import pandas\n",
    "import matplotlib. pyplot as plt\n",
    "#import seaborn\n",
    "\n",
    "# User Generated Imports\n",
    "import webscraper\n",
    "import dataImporter\n",
    "import covidPlotter"
   ]
  },
  {
   "cell_type": "markdown",
   "metadata": {},
   "source": [
    "Download the datafiles from: https://github.com/CSSEGISandData/COVID-19/"
   ]
  },
  {
   "cell_type": "code",
   "execution_count": 2,
   "metadata": {},
   "outputs": [
    {
     "name": "stdout",
     "output_type": "stream",
     "text": [
      "Fetching Data From: https://github.com/CSSEGISandData/COVID-19/tree/master/csse_covid_19_data/csse_covid_19_time_series\n",
      "Data is Stored in: /Users/awells/UVA/CS/apr_22_2020/cs-project-covid/data/csse_covid_19_time_series/\n",
      "Fetching Data From: https://www.worldometers.info/world-population/population-by-country/\n"
     ]
    }
   ],
   "source": [
    "url = \"https://github.com/CSSEGISandData/COVID-19/tree/master/csse_covid_19_data/csse_covid_19_time_series\"\n",
    "ext = 'csv'\n",
    "\n",
    "# Location where data will be stored locally\n",
    "datapath = os.getcwd() + \"/data/csse_covid_19_time_series\"\n",
    "\n",
    "# Webscrape\n",
    "webscraper.webscrape(datapath,url,ext)\n",
    "population = webscraper.webscrape_population_2020()"
   ]
  },
  {
   "cell_type": "markdown",
   "metadata": {},
   "source": [
    "The Data files we'll be looking at:"
   ]
  },
  {
   "cell_type": "code",
   "execution_count": 3,
   "metadata": {},
   "outputs": [
    {
     "name": "stdout",
     "output_type": "stream",
     "text": [
      "Errata.csv\r\n",
      "time_series_covid19_confirmed_US.csv\r\n",
      "time_series_covid19_confirmed_global.csv\r\n",
      "time_series_covid19_deaths_US.csv\r\n",
      "time_series_covid19_deaths_global.csv\r\n",
      "time_series_covid19_recovered_global.csv\r\n"
     ]
    }
   ],
   "source": [
    "!ls {datapath}"
   ]
  },
  {
   "cell_type": "code",
   "execution_count": 4,
   "metadata": {},
   "outputs": [],
   "source": [
    "covid_19_time_series_confirmed  = pandas.read_csv(datapath + '/time_series_covid19_confirmed_global.csv')\n",
    "covid_19_time_series_deaths     = pandas.read_csv(datapath + '/time_series_covid19_deaths_global.csv')\n",
    "covid_19_time_series_recovered  = pandas.read_csv(datapath + '/time_series_covid19_recovered_global.csv')"
   ]
  },
  {
   "cell_type": "markdown",
   "metadata": {},
   "source": [
    "Confirmed Cases by Country"
   ]
  },
  {
   "cell_type": "code",
   "execution_count": 5,
   "metadata": {},
   "outputs": [
    {
     "data": {
      "text/html": [
       "<div>\n",
       "<style scoped>\n",
       "    .dataframe tbody tr th:only-of-type {\n",
       "        vertical-align: middle;\n",
       "    }\n",
       "\n",
       "    .dataframe tbody tr th {\n",
       "        vertical-align: top;\n",
       "    }\n",
       "\n",
       "    .dataframe thead th {\n",
       "        text-align: right;\n",
       "    }\n",
       "</style>\n",
       "<table border=\"1\" class=\"dataframe\">\n",
       "  <thead>\n",
       "    <tr style=\"text-align: right;\">\n",
       "      <th></th>\n",
       "      <th>Province/State</th>\n",
       "      <th>Country/Region</th>\n",
       "      <th>Lat</th>\n",
       "      <th>Long</th>\n",
       "      <th>1/22/20</th>\n",
       "      <th>1/23/20</th>\n",
       "      <th>1/24/20</th>\n",
       "      <th>1/25/20</th>\n",
       "      <th>1/26/20</th>\n",
       "      <th>1/27/20</th>\n",
       "      <th>...</th>\n",
       "      <th>4/12/20</th>\n",
       "      <th>4/13/20</th>\n",
       "      <th>4/14/20</th>\n",
       "      <th>4/15/20</th>\n",
       "      <th>4/16/20</th>\n",
       "      <th>4/17/20</th>\n",
       "      <th>4/18/20</th>\n",
       "      <th>4/19/20</th>\n",
       "      <th>4/20/20</th>\n",
       "      <th>4/21/20</th>\n",
       "    </tr>\n",
       "  </thead>\n",
       "  <tbody>\n",
       "    <tr>\n",
       "      <th>0</th>\n",
       "      <td>NaN</td>\n",
       "      <td>Afghanistan</td>\n",
       "      <td>33.0000</td>\n",
       "      <td>65.0000</td>\n",
       "      <td>0</td>\n",
       "      <td>0</td>\n",
       "      <td>0</td>\n",
       "      <td>0</td>\n",
       "      <td>0</td>\n",
       "      <td>0</td>\n",
       "      <td>...</td>\n",
       "      <td>607</td>\n",
       "      <td>665</td>\n",
       "      <td>714</td>\n",
       "      <td>784</td>\n",
       "      <td>840</td>\n",
       "      <td>906</td>\n",
       "      <td>933</td>\n",
       "      <td>996</td>\n",
       "      <td>1026</td>\n",
       "      <td>1092</td>\n",
       "    </tr>\n",
       "    <tr>\n",
       "      <th>1</th>\n",
       "      <td>NaN</td>\n",
       "      <td>Albania</td>\n",
       "      <td>41.1533</td>\n",
       "      <td>20.1683</td>\n",
       "      <td>0</td>\n",
       "      <td>0</td>\n",
       "      <td>0</td>\n",
       "      <td>0</td>\n",
       "      <td>0</td>\n",
       "      <td>0</td>\n",
       "      <td>...</td>\n",
       "      <td>446</td>\n",
       "      <td>467</td>\n",
       "      <td>475</td>\n",
       "      <td>494</td>\n",
       "      <td>518</td>\n",
       "      <td>539</td>\n",
       "      <td>548</td>\n",
       "      <td>562</td>\n",
       "      <td>584</td>\n",
       "      <td>609</td>\n",
       "    </tr>\n",
       "    <tr>\n",
       "      <th>2</th>\n",
       "      <td>NaN</td>\n",
       "      <td>Algeria</td>\n",
       "      <td>28.0339</td>\n",
       "      <td>1.6596</td>\n",
       "      <td>0</td>\n",
       "      <td>0</td>\n",
       "      <td>0</td>\n",
       "      <td>0</td>\n",
       "      <td>0</td>\n",
       "      <td>0</td>\n",
       "      <td>...</td>\n",
       "      <td>1914</td>\n",
       "      <td>1983</td>\n",
       "      <td>2070</td>\n",
       "      <td>2160</td>\n",
       "      <td>2268</td>\n",
       "      <td>2418</td>\n",
       "      <td>2534</td>\n",
       "      <td>2629</td>\n",
       "      <td>2718</td>\n",
       "      <td>2811</td>\n",
       "    </tr>\n",
       "    <tr>\n",
       "      <th>3</th>\n",
       "      <td>NaN</td>\n",
       "      <td>Andorra</td>\n",
       "      <td>42.5063</td>\n",
       "      <td>1.5218</td>\n",
       "      <td>0</td>\n",
       "      <td>0</td>\n",
       "      <td>0</td>\n",
       "      <td>0</td>\n",
       "      <td>0</td>\n",
       "      <td>0</td>\n",
       "      <td>...</td>\n",
       "      <td>638</td>\n",
       "      <td>646</td>\n",
       "      <td>659</td>\n",
       "      <td>673</td>\n",
       "      <td>673</td>\n",
       "      <td>696</td>\n",
       "      <td>704</td>\n",
       "      <td>713</td>\n",
       "      <td>717</td>\n",
       "      <td>717</td>\n",
       "    </tr>\n",
       "    <tr>\n",
       "      <th>4</th>\n",
       "      <td>NaN</td>\n",
       "      <td>Angola</td>\n",
       "      <td>-11.2027</td>\n",
       "      <td>17.8739</td>\n",
       "      <td>0</td>\n",
       "      <td>0</td>\n",
       "      <td>0</td>\n",
       "      <td>0</td>\n",
       "      <td>0</td>\n",
       "      <td>0</td>\n",
       "      <td>...</td>\n",
       "      <td>19</td>\n",
       "      <td>19</td>\n",
       "      <td>19</td>\n",
       "      <td>19</td>\n",
       "      <td>19</td>\n",
       "      <td>19</td>\n",
       "      <td>24</td>\n",
       "      <td>24</td>\n",
       "      <td>24</td>\n",
       "      <td>24</td>\n",
       "    </tr>\n",
       "  </tbody>\n",
       "</table>\n",
       "<p>5 rows × 95 columns</p>\n",
       "</div>"
      ],
      "text/plain": [
       "  Province/State Country/Region      Lat     Long  1/22/20  1/23/20  1/24/20  \\\n",
       "0            NaN    Afghanistan  33.0000  65.0000        0        0        0   \n",
       "1            NaN        Albania  41.1533  20.1683        0        0        0   \n",
       "2            NaN        Algeria  28.0339   1.6596        0        0        0   \n",
       "3            NaN        Andorra  42.5063   1.5218        0        0        0   \n",
       "4            NaN         Angola -11.2027  17.8739        0        0        0   \n",
       "\n",
       "   1/25/20  1/26/20  1/27/20   ...     4/12/20  4/13/20  4/14/20  4/15/20  \\\n",
       "0        0        0        0   ...         607      665      714      784   \n",
       "1        0        0        0   ...         446      467      475      494   \n",
       "2        0        0        0   ...        1914     1983     2070     2160   \n",
       "3        0        0        0   ...         638      646      659      673   \n",
       "4        0        0        0   ...          19       19       19       19   \n",
       "\n",
       "   4/16/20  4/17/20  4/18/20  4/19/20  4/20/20  4/21/20  \n",
       "0      840      906      933      996     1026     1092  \n",
       "1      518      539      548      562      584      609  \n",
       "2     2268     2418     2534     2629     2718     2811  \n",
       "3      673      696      704      713      717      717  \n",
       "4       19       19       24       24       24       24  \n",
       "\n",
       "[5 rows x 95 columns]"
      ]
     },
     "execution_count": 5,
     "metadata": {},
     "output_type": "execute_result"
    }
   ],
   "source": [
    "covid_19_time_series_confirmed.head()"
   ]
  },
  {
   "cell_type": "markdown",
   "metadata": {},
   "source": [
    "Deaths By Country"
   ]
  },
  {
   "cell_type": "code",
   "execution_count": 6,
   "metadata": {},
   "outputs": [
    {
     "data": {
      "text/html": [
       "<div>\n",
       "<style scoped>\n",
       "    .dataframe tbody tr th:only-of-type {\n",
       "        vertical-align: middle;\n",
       "    }\n",
       "\n",
       "    .dataframe tbody tr th {\n",
       "        vertical-align: top;\n",
       "    }\n",
       "\n",
       "    .dataframe thead th {\n",
       "        text-align: right;\n",
       "    }\n",
       "</style>\n",
       "<table border=\"1\" class=\"dataframe\">\n",
       "  <thead>\n",
       "    <tr style=\"text-align: right;\">\n",
       "      <th></th>\n",
       "      <th>Province/State</th>\n",
       "      <th>Country/Region</th>\n",
       "      <th>Lat</th>\n",
       "      <th>Long</th>\n",
       "      <th>1/22/20</th>\n",
       "      <th>1/23/20</th>\n",
       "      <th>1/24/20</th>\n",
       "      <th>1/25/20</th>\n",
       "      <th>1/26/20</th>\n",
       "      <th>1/27/20</th>\n",
       "      <th>...</th>\n",
       "      <th>4/12/20</th>\n",
       "      <th>4/13/20</th>\n",
       "      <th>4/14/20</th>\n",
       "      <th>4/15/20</th>\n",
       "      <th>4/16/20</th>\n",
       "      <th>4/17/20</th>\n",
       "      <th>4/18/20</th>\n",
       "      <th>4/19/20</th>\n",
       "      <th>4/20/20</th>\n",
       "      <th>4/21/20</th>\n",
       "    </tr>\n",
       "  </thead>\n",
       "  <tbody>\n",
       "    <tr>\n",
       "      <th>0</th>\n",
       "      <td>NaN</td>\n",
       "      <td>Afghanistan</td>\n",
       "      <td>33.0000</td>\n",
       "      <td>65.0000</td>\n",
       "      <td>0</td>\n",
       "      <td>0</td>\n",
       "      <td>0</td>\n",
       "      <td>0</td>\n",
       "      <td>0</td>\n",
       "      <td>0</td>\n",
       "      <td>...</td>\n",
       "      <td>18</td>\n",
       "      <td>21</td>\n",
       "      <td>23</td>\n",
       "      <td>25</td>\n",
       "      <td>30</td>\n",
       "      <td>30</td>\n",
       "      <td>30</td>\n",
       "      <td>33</td>\n",
       "      <td>36</td>\n",
       "      <td>36</td>\n",
       "    </tr>\n",
       "    <tr>\n",
       "      <th>1</th>\n",
       "      <td>NaN</td>\n",
       "      <td>Albania</td>\n",
       "      <td>41.1533</td>\n",
       "      <td>20.1683</td>\n",
       "      <td>0</td>\n",
       "      <td>0</td>\n",
       "      <td>0</td>\n",
       "      <td>0</td>\n",
       "      <td>0</td>\n",
       "      <td>0</td>\n",
       "      <td>...</td>\n",
       "      <td>23</td>\n",
       "      <td>23</td>\n",
       "      <td>24</td>\n",
       "      <td>25</td>\n",
       "      <td>26</td>\n",
       "      <td>26</td>\n",
       "      <td>26</td>\n",
       "      <td>26</td>\n",
       "      <td>26</td>\n",
       "      <td>26</td>\n",
       "    </tr>\n",
       "    <tr>\n",
       "      <th>2</th>\n",
       "      <td>NaN</td>\n",
       "      <td>Algeria</td>\n",
       "      <td>28.0339</td>\n",
       "      <td>1.6596</td>\n",
       "      <td>0</td>\n",
       "      <td>0</td>\n",
       "      <td>0</td>\n",
       "      <td>0</td>\n",
       "      <td>0</td>\n",
       "      <td>0</td>\n",
       "      <td>...</td>\n",
       "      <td>293</td>\n",
       "      <td>313</td>\n",
       "      <td>326</td>\n",
       "      <td>336</td>\n",
       "      <td>348</td>\n",
       "      <td>364</td>\n",
       "      <td>367</td>\n",
       "      <td>375</td>\n",
       "      <td>384</td>\n",
       "      <td>392</td>\n",
       "    </tr>\n",
       "    <tr>\n",
       "      <th>3</th>\n",
       "      <td>NaN</td>\n",
       "      <td>Andorra</td>\n",
       "      <td>42.5063</td>\n",
       "      <td>1.5218</td>\n",
       "      <td>0</td>\n",
       "      <td>0</td>\n",
       "      <td>0</td>\n",
       "      <td>0</td>\n",
       "      <td>0</td>\n",
       "      <td>0</td>\n",
       "      <td>...</td>\n",
       "      <td>29</td>\n",
       "      <td>29</td>\n",
       "      <td>31</td>\n",
       "      <td>33</td>\n",
       "      <td>33</td>\n",
       "      <td>35</td>\n",
       "      <td>35</td>\n",
       "      <td>36</td>\n",
       "      <td>37</td>\n",
       "      <td>37</td>\n",
       "    </tr>\n",
       "    <tr>\n",
       "      <th>4</th>\n",
       "      <td>NaN</td>\n",
       "      <td>Angola</td>\n",
       "      <td>-11.2027</td>\n",
       "      <td>17.8739</td>\n",
       "      <td>0</td>\n",
       "      <td>0</td>\n",
       "      <td>0</td>\n",
       "      <td>0</td>\n",
       "      <td>0</td>\n",
       "      <td>0</td>\n",
       "      <td>...</td>\n",
       "      <td>2</td>\n",
       "      <td>2</td>\n",
       "      <td>2</td>\n",
       "      <td>2</td>\n",
       "      <td>2</td>\n",
       "      <td>2</td>\n",
       "      <td>2</td>\n",
       "      <td>2</td>\n",
       "      <td>2</td>\n",
       "      <td>2</td>\n",
       "    </tr>\n",
       "  </tbody>\n",
       "</table>\n",
       "<p>5 rows × 95 columns</p>\n",
       "</div>"
      ],
      "text/plain": [
       "  Province/State Country/Region      Lat     Long  1/22/20  1/23/20  1/24/20  \\\n",
       "0            NaN    Afghanistan  33.0000  65.0000        0        0        0   \n",
       "1            NaN        Albania  41.1533  20.1683        0        0        0   \n",
       "2            NaN        Algeria  28.0339   1.6596        0        0        0   \n",
       "3            NaN        Andorra  42.5063   1.5218        0        0        0   \n",
       "4            NaN         Angola -11.2027  17.8739        0        0        0   \n",
       "\n",
       "   1/25/20  1/26/20  1/27/20   ...     4/12/20  4/13/20  4/14/20  4/15/20  \\\n",
       "0        0        0        0   ...          18       21       23       25   \n",
       "1        0        0        0   ...          23       23       24       25   \n",
       "2        0        0        0   ...         293      313      326      336   \n",
       "3        0        0        0   ...          29       29       31       33   \n",
       "4        0        0        0   ...           2        2        2        2   \n",
       "\n",
       "   4/16/20  4/17/20  4/18/20  4/19/20  4/20/20  4/21/20  \n",
       "0       30       30       30       33       36       36  \n",
       "1       26       26       26       26       26       26  \n",
       "2      348      364      367      375      384      392  \n",
       "3       33       35       35       36       37       37  \n",
       "4        2        2        2        2        2        2  \n",
       "\n",
       "[5 rows x 95 columns]"
      ]
     },
     "execution_count": 6,
     "metadata": {},
     "output_type": "execute_result"
    }
   ],
   "source": [
    "covid_19_time_series_deaths.head()"
   ]
  },
  {
   "cell_type": "markdown",
   "metadata": {},
   "source": [
    "Recovered Cases by Country"
   ]
  },
  {
   "cell_type": "code",
   "execution_count": 7,
   "metadata": {},
   "outputs": [
    {
     "data": {
      "text/html": [
       "<div>\n",
       "<style scoped>\n",
       "    .dataframe tbody tr th:only-of-type {\n",
       "        vertical-align: middle;\n",
       "    }\n",
       "\n",
       "    .dataframe tbody tr th {\n",
       "        vertical-align: top;\n",
       "    }\n",
       "\n",
       "    .dataframe thead th {\n",
       "        text-align: right;\n",
       "    }\n",
       "</style>\n",
       "<table border=\"1\" class=\"dataframe\">\n",
       "  <thead>\n",
       "    <tr style=\"text-align: right;\">\n",
       "      <th></th>\n",
       "      <th>Province/State</th>\n",
       "      <th>Country/Region</th>\n",
       "      <th>Lat</th>\n",
       "      <th>Long</th>\n",
       "      <th>1/22/20</th>\n",
       "      <th>1/23/20</th>\n",
       "      <th>1/24/20</th>\n",
       "      <th>1/25/20</th>\n",
       "      <th>1/26/20</th>\n",
       "      <th>1/27/20</th>\n",
       "      <th>...</th>\n",
       "      <th>4/12/20</th>\n",
       "      <th>4/13/20</th>\n",
       "      <th>4/14/20</th>\n",
       "      <th>4/15/20</th>\n",
       "      <th>4/16/20</th>\n",
       "      <th>4/17/20</th>\n",
       "      <th>4/18/20</th>\n",
       "      <th>4/19/20</th>\n",
       "      <th>4/20/20</th>\n",
       "      <th>4/21/20</th>\n",
       "    </tr>\n",
       "  </thead>\n",
       "  <tbody>\n",
       "    <tr>\n",
       "      <th>0</th>\n",
       "      <td>NaN</td>\n",
       "      <td>Afghanistan</td>\n",
       "      <td>33.0000</td>\n",
       "      <td>65.0000</td>\n",
       "      <td>0</td>\n",
       "      <td>0</td>\n",
       "      <td>0</td>\n",
       "      <td>0</td>\n",
       "      <td>0</td>\n",
       "      <td>0</td>\n",
       "      <td>...</td>\n",
       "      <td>32</td>\n",
       "      <td>32</td>\n",
       "      <td>40</td>\n",
       "      <td>43</td>\n",
       "      <td>54</td>\n",
       "      <td>99</td>\n",
       "      <td>112</td>\n",
       "      <td>131</td>\n",
       "      <td>135</td>\n",
       "      <td>150</td>\n",
       "    </tr>\n",
       "    <tr>\n",
       "      <th>1</th>\n",
       "      <td>NaN</td>\n",
       "      <td>Albania</td>\n",
       "      <td>41.1533</td>\n",
       "      <td>20.1683</td>\n",
       "      <td>0</td>\n",
       "      <td>0</td>\n",
       "      <td>0</td>\n",
       "      <td>0</td>\n",
       "      <td>0</td>\n",
       "      <td>0</td>\n",
       "      <td>...</td>\n",
       "      <td>217</td>\n",
       "      <td>232</td>\n",
       "      <td>248</td>\n",
       "      <td>251</td>\n",
       "      <td>277</td>\n",
       "      <td>283</td>\n",
       "      <td>302</td>\n",
       "      <td>314</td>\n",
       "      <td>327</td>\n",
       "      <td>345</td>\n",
       "    </tr>\n",
       "    <tr>\n",
       "      <th>2</th>\n",
       "      <td>NaN</td>\n",
       "      <td>Algeria</td>\n",
       "      <td>28.0339</td>\n",
       "      <td>1.6596</td>\n",
       "      <td>0</td>\n",
       "      <td>0</td>\n",
       "      <td>0</td>\n",
       "      <td>0</td>\n",
       "      <td>0</td>\n",
       "      <td>0</td>\n",
       "      <td>...</td>\n",
       "      <td>591</td>\n",
       "      <td>601</td>\n",
       "      <td>691</td>\n",
       "      <td>708</td>\n",
       "      <td>783</td>\n",
       "      <td>846</td>\n",
       "      <td>894</td>\n",
       "      <td>1047</td>\n",
       "      <td>1099</td>\n",
       "      <td>1152</td>\n",
       "    </tr>\n",
       "    <tr>\n",
       "      <th>3</th>\n",
       "      <td>NaN</td>\n",
       "      <td>Andorra</td>\n",
       "      <td>42.5063</td>\n",
       "      <td>1.5218</td>\n",
       "      <td>0</td>\n",
       "      <td>0</td>\n",
       "      <td>0</td>\n",
       "      <td>0</td>\n",
       "      <td>0</td>\n",
       "      <td>0</td>\n",
       "      <td>...</td>\n",
       "      <td>128</td>\n",
       "      <td>128</td>\n",
       "      <td>128</td>\n",
       "      <td>169</td>\n",
       "      <td>169</td>\n",
       "      <td>191</td>\n",
       "      <td>205</td>\n",
       "      <td>235</td>\n",
       "      <td>248</td>\n",
       "      <td>282</td>\n",
       "    </tr>\n",
       "    <tr>\n",
       "      <th>4</th>\n",
       "      <td>NaN</td>\n",
       "      <td>Angola</td>\n",
       "      <td>-11.2027</td>\n",
       "      <td>17.8739</td>\n",
       "      <td>0</td>\n",
       "      <td>0</td>\n",
       "      <td>0</td>\n",
       "      <td>0</td>\n",
       "      <td>0</td>\n",
       "      <td>0</td>\n",
       "      <td>...</td>\n",
       "      <td>4</td>\n",
       "      <td>4</td>\n",
       "      <td>5</td>\n",
       "      <td>5</td>\n",
       "      <td>5</td>\n",
       "      <td>5</td>\n",
       "      <td>6</td>\n",
       "      <td>6</td>\n",
       "      <td>6</td>\n",
       "      <td>6</td>\n",
       "    </tr>\n",
       "  </tbody>\n",
       "</table>\n",
       "<p>5 rows × 95 columns</p>\n",
       "</div>"
      ],
      "text/plain": [
       "  Province/State Country/Region      Lat     Long  1/22/20  1/23/20  1/24/20  \\\n",
       "0            NaN    Afghanistan  33.0000  65.0000        0        0        0   \n",
       "1            NaN        Albania  41.1533  20.1683        0        0        0   \n",
       "2            NaN        Algeria  28.0339   1.6596        0        0        0   \n",
       "3            NaN        Andorra  42.5063   1.5218        0        0        0   \n",
       "4            NaN         Angola -11.2027  17.8739        0        0        0   \n",
       "\n",
       "   1/25/20  1/26/20  1/27/20   ...     4/12/20  4/13/20  4/14/20  4/15/20  \\\n",
       "0        0        0        0   ...          32       32       40       43   \n",
       "1        0        0        0   ...         217      232      248      251   \n",
       "2        0        0        0   ...         591      601      691      708   \n",
       "3        0        0        0   ...         128      128      128      169   \n",
       "4        0        0        0   ...           4        4        5        5   \n",
       "\n",
       "   4/16/20  4/17/20  4/18/20  4/19/20  4/20/20  4/21/20  \n",
       "0       54       99      112      131      135      150  \n",
       "1      277      283      302      314      327      345  \n",
       "2      783      846      894     1047     1099     1152  \n",
       "3      169      191      205      235      248      282  \n",
       "4        5        5        6        6        6        6  \n",
       "\n",
       "[5 rows x 95 columns]"
      ]
     },
     "execution_count": 7,
     "metadata": {},
     "output_type": "execute_result"
    }
   ],
   "source": [
    "covid_19_time_series_recovered.head()"
   ]
  },
  {
   "cell_type": "markdown",
   "metadata": {},
   "source": [
    "First We'll look at some basic Info about the confirmed cases. First lets look at a list of all the affected countries"
   ]
  },
  {
   "cell_type": "code",
   "execution_count": 8,
   "metadata": {},
   "outputs": [
    {
     "name": "stdout",
     "output_type": "stream",
     "text": [
      "['Afghanistan', 'Albania', 'Algeria', 'Andorra', 'Angola', 'Antigua and Barbuda', 'Argentina', 'Armenia', 'Australia', 'Austria', 'Azerbaijan', 'Bahamas', 'Bahrain', 'Bangladesh', 'Barbados', 'Belarus', 'Belgium', 'Belize', 'Benin', 'Bhutan', 'Bolivia', 'Bosnia and Herzegovina', 'Botswana', 'Brazil', 'Brunei', 'Bulgaria', 'Burkina Faso', 'Burma', 'Burundi', 'Cabo Verde', 'Cambodia', 'Cameroon', 'Canada', 'Central African Republic', 'Chad', 'Chile', 'China', 'Colombia', 'Congo (Brazzaville)', 'Congo (Kinshasa)', 'Costa Rica', \"Cote d'Ivoire\", 'Croatia', 'Cuba', 'Cyprus', 'Czechia', 'Denmark', 'Diamond Princess', 'Djibouti', 'Dominica', 'Dominican Republic', 'Ecuador', 'Egypt', 'El Salvador', 'Equatorial Guinea', 'Eritrea', 'Estonia', 'Eswatini', 'Ethiopia', 'Fiji', 'Finland', 'France', 'Gabon', 'Gambia', 'Georgia', 'Germany', 'Ghana', 'Greece', 'Grenada', 'Guatemala', 'Guinea', 'Guinea-Bissau', 'Guyana', 'Haiti', 'Holy See', 'Honduras', 'Hungary', 'Iceland', 'India', 'Indonesia', 'Iran', 'Iraq', 'Ireland', 'Israel', 'Italy', 'Jamaica', 'Japan', 'Jordan', 'Kazakhstan', 'Kenya', 'Korea, South', 'Kosovo', 'Kuwait', 'Kyrgyzstan', 'Laos', 'Latvia', 'Lebanon', 'Liberia', 'Libya', 'Liechtenstein', 'Lithuania', 'Luxembourg', 'MS Zaandam', 'Madagascar', 'Malawi', 'Malaysia', 'Maldives', 'Mali', 'Malta', 'Mauritania', 'Mauritius', 'Mexico', 'Moldova', 'Monaco', 'Mongolia', 'Montenegro', 'Morocco', 'Mozambique', 'Namibia', 'Nepal', 'Netherlands', 'New Zealand', 'Nicaragua', 'Niger', 'Nigeria', 'North Macedonia', 'Norway', 'Oman', 'Pakistan', 'Panama', 'Papua New Guinea', 'Paraguay', 'Peru', 'Philippines', 'Poland', 'Portugal', 'Qatar', 'Romania', 'Russia', 'Rwanda', 'Saint Kitts and Nevis', 'Saint Lucia', 'Saint Vincent and the Grenadines', 'San Marino', 'Sao Tome and Principe', 'Saudi Arabia', 'Senegal', 'Serbia', 'Seychelles', 'Sierra Leone', 'Singapore', 'Slovakia', 'Slovenia', 'Somalia', 'South Africa', 'South Sudan', 'Spain', 'Sri Lanka', 'Sudan', 'Suriname', 'Sweden', 'Switzerland', 'Syria', 'Taiwan*', 'Tanzania', 'Thailand', 'Timor-Leste', 'Togo', 'Trinidad and Tobago', 'Tunisia', 'Turkey', 'US', 'Uganda', 'Ukraine', 'United Arab Emirates', 'United Kingdom', 'Uruguay', 'Uzbekistan', 'Venezuela', 'Vietnam', 'West Bank and Gaza', 'Western Sahara', 'Yemen', 'Zambia', 'Zimbabwe']\n"
     ]
    }
   ],
   "source": [
    "unique_countries = sorted(covid_19_time_series_confirmed['Country/Region'].unique())\n",
    "print(unique_countries)"
   ]
  },
  {
   "cell_type": "markdown",
   "metadata": {},
   "source": [
    "We can subset a country"
   ]
  },
  {
   "cell_type": "code",
   "execution_count": 9,
   "metadata": {},
   "outputs": [],
   "source": [
    "us_confirmed = dataImporter.subset_country(covid_19_time_series_confirmed,'US')"
   ]
  },
  {
   "cell_type": "code",
   "execution_count": 10,
   "metadata": {},
   "outputs": [
    {
     "data": {
      "text/html": [
       "<div>\n",
       "<style scoped>\n",
       "    .dataframe tbody tr th:only-of-type {\n",
       "        vertical-align: middle;\n",
       "    }\n",
       "\n",
       "    .dataframe tbody tr th {\n",
       "        vertical-align: top;\n",
       "    }\n",
       "\n",
       "    .dataframe thead th {\n",
       "        text-align: right;\n",
       "    }\n",
       "</style>\n",
       "<table border=\"1\" class=\"dataframe\">\n",
       "  <thead>\n",
       "    <tr style=\"text-align: right;\">\n",
       "      <th></th>\n",
       "      <th>Province/State</th>\n",
       "      <th>Country/Region</th>\n",
       "      <th>Lat</th>\n",
       "      <th>Long</th>\n",
       "      <th>1/22/20</th>\n",
       "      <th>1/23/20</th>\n",
       "      <th>1/24/20</th>\n",
       "      <th>1/25/20</th>\n",
       "      <th>1/26/20</th>\n",
       "      <th>1/27/20</th>\n",
       "      <th>...</th>\n",
       "      <th>4/12/20</th>\n",
       "      <th>4/13/20</th>\n",
       "      <th>4/14/20</th>\n",
       "      <th>4/15/20</th>\n",
       "      <th>4/16/20</th>\n",
       "      <th>4/17/20</th>\n",
       "      <th>4/18/20</th>\n",
       "      <th>4/19/20</th>\n",
       "      <th>4/20/20</th>\n",
       "      <th>4/21/20</th>\n",
       "    </tr>\n",
       "  </thead>\n",
       "  <tbody>\n",
       "    <tr>\n",
       "      <th>225</th>\n",
       "      <td>NaN</td>\n",
       "      <td>US</td>\n",
       "      <td>37.0902</td>\n",
       "      <td>-95.7129</td>\n",
       "      <td>1</td>\n",
       "      <td>1</td>\n",
       "      <td>2</td>\n",
       "      <td>2</td>\n",
       "      <td>5</td>\n",
       "      <td>5</td>\n",
       "      <td>...</td>\n",
       "      <td>555313</td>\n",
       "      <td>580619</td>\n",
       "      <td>607670</td>\n",
       "      <td>636350</td>\n",
       "      <td>667592</td>\n",
       "      <td>699706</td>\n",
       "      <td>732197</td>\n",
       "      <td>759086</td>\n",
       "      <td>784326</td>\n",
       "      <td>823786</td>\n",
       "    </tr>\n",
       "  </tbody>\n",
       "</table>\n",
       "<p>1 rows × 95 columns</p>\n",
       "</div>"
      ],
      "text/plain": [
       "    Province/State Country/Region      Lat     Long  1/22/20  1/23/20  \\\n",
       "225            NaN             US  37.0902 -95.7129        1        1   \n",
       "\n",
       "     1/24/20  1/25/20  1/26/20  1/27/20   ...     4/12/20  4/13/20  4/14/20  \\\n",
       "225        2        2        5        5   ...      555313   580619   607670   \n",
       "\n",
       "     4/15/20  4/16/20  4/17/20  4/18/20  4/19/20  4/20/20  4/21/20  \n",
       "225   636350   667592   699706   732197   759086   784326   823786  \n",
       "\n",
       "[1 rows x 95 columns]"
      ]
     },
     "execution_count": 10,
     "metadata": {},
     "output_type": "execute_result"
    }
   ],
   "source": [
    "us_confirmed.head()"
   ]
  },
  {
   "cell_type": "code",
   "execution_count": 11,
   "metadata": {},
   "outputs": [],
   "source": [
    "# Since the 1st 4 columns (Province/State,Country/Region,Lat,Long) dont reference the date, we can start\n",
    "# with the 5th column\n",
    "dates = us_confirmed.columns[4:]\n",
    "cases_per_day = us_confirmed.values[0][4:]\n",
    "new_cases_per_day = [cases_per_day[i] - cases_per_day[i-1] for i in range(1,len(cases_per_day))]\n",
    "new_cases_per_day.insert(0,cases_per_day[0]) #Add how many it was on day 1"
   ]
  },
  {
   "cell_type": "code",
   "execution_count": 12,
   "metadata": {},
   "outputs": [
    {
     "name": "stdout",
     "output_type": "stream",
     "text": [
      "Index(['1/22/20', '1/23/20', '1/24/20', '1/25/20', '1/26/20', '1/27/20',\n",
      "       '1/28/20', '1/29/20', '1/30/20', '1/31/20', '2/1/20', '2/2/20',\n",
      "       '2/3/20', '2/4/20', '2/5/20', '2/6/20', '2/7/20', '2/8/20', '2/9/20',\n",
      "       '2/10/20', '2/11/20', '2/12/20', '2/13/20', '2/14/20', '2/15/20',\n",
      "       '2/16/20', '2/17/20', '2/18/20', '2/19/20', '2/20/20', '2/21/20',\n",
      "       '2/22/20', '2/23/20', '2/24/20', '2/25/20', '2/26/20', '2/27/20',\n",
      "       '2/28/20', '2/29/20', '3/1/20', '3/2/20', '3/3/20', '3/4/20', '3/5/20',\n",
      "       '3/6/20', '3/7/20', '3/8/20', '3/9/20', '3/10/20', '3/11/20', '3/12/20',\n",
      "       '3/13/20', '3/14/20', '3/15/20', '3/16/20', '3/17/20', '3/18/20',\n",
      "       '3/19/20', '3/20/20', '3/21/20', '3/22/20', '3/23/20', '3/24/20',\n",
      "       '3/25/20', '3/26/20', '3/27/20', '3/28/20', '3/29/20', '3/30/20',\n",
      "       '3/31/20', '4/1/20', '4/2/20', '4/3/20', '4/4/20', '4/5/20', '4/6/20',\n",
      "       '4/7/20', '4/8/20', '4/9/20', '4/10/20', '4/11/20', '4/12/20',\n",
      "       '4/13/20', '4/14/20', '4/15/20', '4/16/20', '4/17/20', '4/18/20',\n",
      "       '4/19/20', '4/20/20', '4/21/20'],\n",
      "      dtype='object')\n",
      "[1 1 2 2 5 5 5 5 5 7 8 8 11 11 11 11 11 11 11 11 12 12 13 13 13 13 13 13\n",
      " 13 13 15 15 15 51 51 57 58 60 68 74 98 118 149 217 262 402 518 583 959\n",
      " 1281 1663 2179 2727 3499 4632 6421 7783 13747 19273 25600 33276 43843\n",
      " 53736 65778 83836 101657 121465 140909 161831 188172 213242 243622 275367\n",
      " 308650 336802 366317 397121 428654 462780 496535 526396 555313 580619\n",
      " 607670 636350 667592 699706 732197 759086 784326 823786]\n"
     ]
    }
   ],
   "source": [
    "print(dates)\n",
    "print(cases_per_day)"
   ]
  },
  {
   "cell_type": "code",
   "execution_count": 13,
   "metadata": {},
   "outputs": [
    {
     "data": {
      "image/png": "[encoded data removed]",
      "text/plain": [
       "<Figure size 432x288 with 1 Axes>"
      ]
     },
     "metadata": {
      "needs_background": "light"
     },
     "output_type": "display_data"
    }
   ],
   "source": [
    "covidPlotter.plot_country_cases(us_confirmed,'US','confirmed')"
   ]
  },
  {
   "cell_type": "markdown",
   "metadata": {},
   "source": [
    "Now lets look at the Number of Cases in Days Since Initial Outbreak"
   ]
  },
  {
   "cell_type": "code",
   "execution_count": 14,
   "metadata": {},
   "outputs": [
    {
     "data": {
      "image/png": "[encoded data removed]",
      "text/plain": [
       "<Figure size 432x288 with 1 Axes>"
      ]
     },
     "metadata": {
      "needs_background": "light"
     },
     "output_type": "display_data"
    }
   ],
   "source": [
    "import covidPlotter\n",
    "covidPlotter.plot_country_confirmed_cases_index(us_confirmed,'US', expGraph = True)"
   ]
  },
  {
   "cell_type": "code",
   "execution_count": 15,
   "metadata": {},
   "outputs": [
    {
     "name": "stdout",
     "output_type": "stream",
     "text": [
      "From the above plot we can see that in the U.S. in 91 days we have 823786 confirmed cases. This is an average of 9052.593406593407 new cases per day\r\n"
     ]
    }
   ],
   "source": [
    "! echo \"From the above plot we can see that in the U.S. in {len(dates)} days we have {cases_per_day[-1]} confirmed cases. This is an average of {float(cases_per_day[-1])/float(len(dates))} new cases per day\""
   ]
  },
  {
   "cell_type": "markdown",
   "metadata": {},
   "source": [
    "If that's the case, What is the increase per day look like?"
   ]
  },
  {
   "cell_type": "markdown",
   "metadata": {},
   "source": [
    "Let's look at a boxplot of this information for the last 2 weeks (14 days)"
   ]
  },
  {
   "cell_type": "code",
   "execution_count": 16,
   "metadata": {},
   "outputs": [
    {
     "name": "stdout",
     "output_type": "stream",
     "text": [
      "[31533, 34126, 33755, 29861, 28917, 25306, 27051, 28680, 31242, 32114, 32491, 26889, 25240, 39460]\n"
     ]
    },
    {
     "data": {
      "image/png": "[encoded data removed]",
      "text/plain": [
       "<Figure size 432x288 with 1 Axes>"
      ]
     },
     "metadata": {
      "needs_background": "light"
     },
     "output_type": "display_data"
    }
   ],
   "source": [
    "print(new_cases_per_day[-14:])\n",
    "plt.figure()\n",
    "plt.boxplot(new_cases_per_day[-14:])\n",
    "plt.show()"
   ]
  },
  {
   "cell_type": "markdown",
   "metadata": {},
   "source": [
    "Let's compare the U.S. to some other countries"
   ]
  },
  {
   "cell_type": "code",
   "execution_count": 17,
   "metadata": {},
   "outputs": [],
   "source": [
    "china_confirmed = dataImporter.subset_country(covid_19_time_series_confirmed,'China')\n",
    "spain_confirmed = dataImporter.subset_country(covid_19_time_series_confirmed,'Spain')\n",
    "germany_confirmed = dataImporter.subset_country(covid_19_time_series_confirmed,'Germany')\n",
    "italy_confirmed = dataImporter.subset_country(covid_19_time_series_confirmed,'Italy')"
   ]
  },
  {
   "cell_type": "code",
   "execution_count": 18,
   "metadata": {},
   "outputs": [
    {
     "data": {
      "image/png": "[encoded data removed]",
      "text/plain": [
       "<Figure size 432x288 with 1 Axes>"
      ]
     },
     "metadata": {
      "needs_background": "light"
     },
     "output_type": "display_data"
    },
    {
     "data": {
      "image/png": "[encoded data removed]",
      "text/plain": [
       "<Figure size 432x288 with 1 Axes>"
      ]
     },
     "metadata": {
      "needs_background": "light"
     },
     "output_type": "display_data"
    },
    {
     "data": {
      "image/png": "[encoded data removed]",
      "text/plain": [
       "<Figure size 432x288 with 1 Axes>"
      ]
     },
     "metadata": {
      "needs_background": "light"
     },
     "output_type": "display_data"
    },
    {
     "data": {
      "image/png": "[encoded data removed]",
      "text/plain": [
       "<Figure size 432x288 with 1 Axes>"
      ]
     },
     "metadata": {
      "needs_background": "light"
     },
     "output_type": "display_data"
    }
   ],
   "source": [
    "covidPlotter.plot_country_cases(china_confirmed,'China','confirmed')\n",
    "covidPlotter.plot_country_cases(spain_confirmed,'Spain','confirmed')\n",
    "covidPlotter.plot_country_cases(germany_confirmed,'Germany','confirmed')\n",
    "covidPlotter.plot_country_cases(italy_confirmed,'Italy','confirmed')"
   ]
  },
  {
   "cell_type": "code",
   "execution_count": 19,
   "metadata": {},
   "outputs": [],
   "source": [
    "us_days, us_cases_per_day, us_new_cases_per_day = dataImporter.get_cases_confirmed_as_lists(us_confirmed)\n",
    "china_days, china_cases_per_day, china_new_cases_per_day = dataImporter.get_cases_confirmed_as_lists(china_confirmed)\n",
    "germany_days, germany_cases_per_day, germany_new_cases_per_day = dataImporter.get_cases_confirmed_as_lists(germany_confirmed)\n",
    "spain_days, spain_cases_per_day, spain_new_cases_per_day = dataImporter.get_cases_confirmed_as_lists(spain_confirmed)\n",
    "italy_days, italy_cases_per_day, italy_new_cases_per_day = dataImporter.get_cases_confirmed_as_lists(italy_confirmed)\n"
   ]
  },
  {
   "cell_type": "code",
   "execution_count": 20,
   "metadata": {},
   "outputs": [
    {
     "name": "stdout",
     "output_type": "stream",
     "text": [
      "Number of Total Cases: 823786\n"
     ]
    },
    {
     "data": {
      "image/png": "[encoded data removed]",
      "text/plain": [
       "<Figure size 432x288 with 1 Axes>"
      ]
     },
     "metadata": {
      "needs_background": "light"
     },
     "output_type": "display_data"
    }
   ],
   "source": [
    "covidPlotter.plot_bar(us_new_cases_per_day,'US','Number of New Cases')\n",
    "print(\"Number of Total Cases: {}\".format(sum(us_new_cases_per_day)))"
   ]
  },
  {
   "cell_type": "code",
   "execution_count": 21,
   "metadata": {},
   "outputs": [
    {
     "name": "stdout",
     "output_type": "stream",
     "text": [
      "Number of Total Cases: 83853\n"
     ]
    },
    {
     "data": {
      "image/png": "[encoded data removed]",
      "text/plain": [
       "<Figure size 432x288 with 1 Axes>"
      ]
     },
     "metadata": {
      "needs_background": "light"
     },
     "output_type": "display_data"
    }
   ],
   "source": [
    "covidPlotter.plot_bar(china_new_cases_per_day,'China','Number of New Cases')\n",
    "print(\"Number of Total Cases: {}\".format(sum(china_new_cases_per_day)))"
   ]
  },
  {
   "cell_type": "code",
   "execution_count": 22,
   "metadata": {},
   "outputs": [
    {
     "name": "stdout",
     "output_type": "stream",
     "text": [
      "Number of Total Cases: 148291\n"
     ]
    },
    {
     "data": {
      "image/png": "[encoded data removed]",
      "text/plain": [
       "<Figure size 432x288 with 1 Axes>"
      ]
     },
     "metadata": {
      "needs_background": "light"
     },
     "output_type": "display_data"
    }
   ],
   "source": [
    "covidPlotter.plot_bar(germany_new_cases_per_day,'Germany','Number of New Cases')\n",
    "print(\"Number of Total Cases: {}\".format(sum(germany_new_cases_per_day)))"
   ]
  },
  {
   "cell_type": "code",
   "execution_count": 23,
   "metadata": {},
   "outputs": [
    {
     "name": "stdout",
     "output_type": "stream",
     "text": [
      "Number of Total Cases: 204178\n"
     ]
    },
    {
     "data": {
      "image/png": "[encoded data removed]",
      "text/plain": [
       "<Figure size 432x288 with 1 Axes>"
      ]
     },
     "metadata": {
      "needs_background": "light"
     },
     "output_type": "display_data"
    }
   ],
   "source": [
    "covidPlotter.plot_bar(spain_new_cases_per_day,'Spain','Number of New Cases')\n",
    "print(\"Number of Total Cases: {}\".format(sum(spain_new_cases_per_day)))"
   ]
  },
  {
   "cell_type": "code",
   "execution_count": 24,
   "metadata": {},
   "outputs": [
    {
     "name": "stdout",
     "output_type": "stream",
     "text": [
      "Number of Total Cases: 183957\n"
     ]
    },
    {
     "data": {
      "image/png": "[encoded data removed]",
      "text/plain": [
       "<Figure size 432x288 with 1 Axes>"
      ]
     },
     "metadata": {
      "needs_background": "light"
     },
     "output_type": "display_data"
    }
   ],
   "source": [
    "covidPlotter.plot_bar(italy_new_cases_per_day,'Italy','Number of New Cases')\n",
    "print(\"Number of Total Cases: {}\".format(sum(italy_new_cases_per_day)))"
   ]
  },
  {
   "cell_type": "code",
   "execution_count": 25,
   "metadata": {},
   "outputs": [
    {
     "name": "stdout",
     "output_type": "stream",
     "text": [
      "Let's Compare over the last 21 Days\n"
     ]
    },
    {
     "data": {
      "image/png": "[encoded data removed]",
      "text/plain": [
       "<Figure size 648x288 with 1 Axes>"
      ]
     },
     "metadata": {
      "needs_background": "light"
     },
     "output_type": "display_data"
    }
   ],
   "source": [
    "nDays = 21\n",
    "print(\"Let's Compare over the last {} Days\".format(nDays))\n",
    "fig, axs = plt.subplots(nrows=1, ncols=1, figsize=(9, 4))\n",
    "all_data=[us_new_cases_per_day[-nDays:],\n",
    "             spain_new_cases_per_day[-nDays:],\n",
    "             germany_new_cases_per_day[-nDays:],\n",
    "             italy_new_cases_per_day[-nDays:],\n",
    "             china_new_cases_per_day[-nDays:]\n",
    "            ]\n",
    "axs.boxplot(all_data)\n",
    "plt.setp(axs, xticks=[y + 1 for y in range(len(all_data))], xticklabels=['US', 'Spain', 'Germany', 'Italy','China'])\n",
    "plt.show()"
   ]
  },
  {
   "cell_type": "code",
   "execution_count": 26,
   "metadata": {},
   "outputs": [
    {
     "name": "stdout",
     "output_type": "stream",
     "text": [
      "Let's Compare over the last 14 Days\n"
     ]
    },
    {
     "data": {
      "image/png": "[encoded data removed]",
      "text/plain": [
       "<Figure size 648x288 with 1 Axes>"
      ]
     },
     "metadata": {
      "needs_background": "light"
     },
     "output_type": "display_data"
    }
   ],
   "source": [
    "nDays = 14\n",
    "print(\"Let's Compare over the last {} Days\".format(nDays))\n",
    "fig, axs = plt.subplots(nrows=1, ncols=1, figsize=(9, 4))\n",
    "all_data=[us_new_cases_per_day[-nDays:],\n",
    "             spain_new_cases_per_day[-nDays:],\n",
    "             germany_new_cases_per_day[-nDays:],\n",
    "             italy_new_cases_per_day[-nDays:],\n",
    "             china_new_cases_per_day[-nDays:]\n",
    "            ]\n",
    "axs.boxplot(all_data)\n",
    "plt.setp(axs, xticks=[y + 1 for y in range(len(all_data))], xticklabels=['US', 'Spain', 'Germany', 'Italy','China'])\n",
    "plt.show()"
   ]
  },
  {
   "cell_type": "markdown",
   "metadata": {},
   "source": [
    "The next step of this analysis is to see if people are getting better"
   ]
  },
  {
   "cell_type": "code",
   "execution_count": 27,
   "metadata": {},
   "outputs": [],
   "source": [
    "us_recovered = dataImporter.subset_country(covid_19_time_series_recovered,'US')"
   ]
  },
  {
   "cell_type": "code",
   "execution_count": 28,
   "metadata": {},
   "outputs": [
    {
     "data": {
      "image/png": "[encoded data removed]",
      "text/plain": [
       "<Figure size 432x288 with 1 Axes>"
      ]
     },
     "metadata": {
      "needs_background": "light"
     },
     "output_type": "display_data"
    }
   ],
   "source": [
    "covidPlotter.plot_country_cases(us_recovered,'US','recovered')"
   ]
  },
  {
   "cell_type": "markdown",
   "metadata": {},
   "source": [
    "Again, We'll compare to other countries"
   ]
  },
  {
   "cell_type": "code",
   "execution_count": 29,
   "metadata": {},
   "outputs": [],
   "source": [
    "china_recovered = dataImporter.subset_country(covid_19_time_series_recovered,'China')\n",
    "spain_recovered = dataImporter.subset_country(covid_19_time_series_recovered,'Spain')\n",
    "germany_recovered = dataImporter.subset_country(covid_19_time_series_recovered,'Germany')\n",
    "italy_recovered = dataImporter.subset_country(covid_19_time_series_recovered,'Italy')"
   ]
  },
  {
   "cell_type": "code",
   "execution_count": 30,
   "metadata": {},
   "outputs": [
    {
     "data": {
      "image/png": "[encoded data removed]",
      "text/plain": [
       "<Figure size 432x288 with 1 Axes>"
      ]
     },
     "metadata": {
      "needs_background": "light"
     },
     "output_type": "display_data"
    },
    {
     "data": {
      "image/png": "[encoded data removed]",
      "text/plain": [
       "<Figure size 432x288 with 1 Axes>"
      ]
     },
     "metadata": {
      "needs_background": "light"
     },
     "output_type": "display_data"
    },
    {
     "data": {
      "image/png": "[encoded data removed]",
      "text/plain": [
       "<Figure size 432x288 with 1 Axes>"
      ]
     },
     "metadata": {
      "needs_background": "light"
     },
     "output_type": "display_data"
    },
    {
     "data": {
      "image/png": "[encoded data removed]",
      "text/plain": [
       "<Figure size 432x288 with 1 Axes>"
      ]
     },
     "metadata": {
      "needs_background": "light"
     },
     "output_type": "display_data"
    }
   ],
   "source": [
    "covidPlotter.plot_country_cases(china_recovered,'China','recovered')\n",
    "covidPlotter.plot_country_cases(spain_recovered,'Spain','recovered')\n",
    "covidPlotter.plot_country_cases(germany_recovered,'Germany','recovered')\n",
    "covidPlotter.plot_country_cases(italy_recovered,'Italy','recovered')"
   ]
  },
  {
   "cell_type": "markdown",
   "metadata": {},
   "source": [
    "Now Lets compare Confirmed vs recovered"
   ]
  },
  {
   "cell_type": "code",
   "execution_count": 31,
   "metadata": {},
   "outputs": [
    {
     "data": {
      "text/html": [
       "<div>\n",
       "<style scoped>\n",
       "    .dataframe tbody tr th:only-of-type {\n",
       "        vertical-align: middle;\n",
       "    }\n",
       "\n",
       "    .dataframe tbody tr th {\n",
       "        vertical-align: top;\n",
       "    }\n",
       "\n",
       "    .dataframe thead th {\n",
       "        text-align: right;\n",
       "    }\n",
       "</style>\n",
       "<table border=\"1\" class=\"dataframe\">\n",
       "  <thead>\n",
       "    <tr style=\"text-align: right;\">\n",
       "      <th></th>\n",
       "      <th>Province/State</th>\n",
       "      <th>Country/Region</th>\n",
       "      <th>Lat</th>\n",
       "      <th>Long</th>\n",
       "      <th>1/22/20</th>\n",
       "      <th>1/23/20</th>\n",
       "      <th>1/24/20</th>\n",
       "      <th>1/25/20</th>\n",
       "      <th>1/26/20</th>\n",
       "      <th>1/27/20</th>\n",
       "      <th>...</th>\n",
       "      <th>4/12/20</th>\n",
       "      <th>4/13/20</th>\n",
       "      <th>4/14/20</th>\n",
       "      <th>4/15/20</th>\n",
       "      <th>4/16/20</th>\n",
       "      <th>4/17/20</th>\n",
       "      <th>4/18/20</th>\n",
       "      <th>4/19/20</th>\n",
       "      <th>4/20/20</th>\n",
       "      <th>4/21/20</th>\n",
       "    </tr>\n",
       "  </thead>\n",
       "  <tbody>\n",
       "    <tr>\n",
       "      <th>225</th>\n",
       "      <td>NaN</td>\n",
       "      <td>US</td>\n",
       "      <td>37.0902</td>\n",
       "      <td>-95.7129</td>\n",
       "      <td>1</td>\n",
       "      <td>1</td>\n",
       "      <td>2</td>\n",
       "      <td>2</td>\n",
       "      <td>5</td>\n",
       "      <td>5</td>\n",
       "      <td>...</td>\n",
       "      <td>555313</td>\n",
       "      <td>580619</td>\n",
       "      <td>607670</td>\n",
       "      <td>636350</td>\n",
       "      <td>667592</td>\n",
       "      <td>699706</td>\n",
       "      <td>732197</td>\n",
       "      <td>759086</td>\n",
       "      <td>784326</td>\n",
       "      <td>823786</td>\n",
       "    </tr>\n",
       "  </tbody>\n",
       "</table>\n",
       "<p>1 rows × 95 columns</p>\n",
       "</div>"
      ],
      "text/plain": [
       "    Province/State Country/Region      Lat     Long  1/22/20  1/23/20  \\\n",
       "225            NaN             US  37.0902 -95.7129        1        1   \n",
       "\n",
       "     1/24/20  1/25/20  1/26/20  1/27/20   ...     4/12/20  4/13/20  4/14/20  \\\n",
       "225        2        2        5        5   ...      555313   580619   607670   \n",
       "\n",
       "     4/15/20  4/16/20  4/17/20  4/18/20  4/19/20  4/20/20  4/21/20  \n",
       "225   636350   667592   699706   732197   759086   784326   823786  \n",
       "\n",
       "[1 rows x 95 columns]"
      ]
     },
     "execution_count": 31,
     "metadata": {},
     "output_type": "execute_result"
    }
   ],
   "source": [
    "us_confirmed.head()"
   ]
  },
  {
   "cell_type": "code",
   "execution_count": 32,
   "metadata": {},
   "outputs": [
    {
     "data": {
      "text/html": [
       "<div>\n",
       "<style scoped>\n",
       "    .dataframe tbody tr th:only-of-type {\n",
       "        vertical-align: middle;\n",
       "    }\n",
       "\n",
       "    .dataframe tbody tr th {\n",
       "        vertical-align: top;\n",
       "    }\n",
       "\n",
       "    .dataframe thead th {\n",
       "        text-align: right;\n",
       "    }\n",
       "</style>\n",
       "<table border=\"1\" class=\"dataframe\">\n",
       "  <thead>\n",
       "    <tr style=\"text-align: right;\">\n",
       "      <th></th>\n",
       "      <th>Province/State</th>\n",
       "      <th>Country/Region</th>\n",
       "      <th>Lat</th>\n",
       "      <th>Long</th>\n",
       "      <th>1/22/20</th>\n",
       "      <th>1/23/20</th>\n",
       "      <th>1/24/20</th>\n",
       "      <th>1/25/20</th>\n",
       "      <th>1/26/20</th>\n",
       "      <th>1/27/20</th>\n",
       "      <th>...</th>\n",
       "      <th>4/12/20</th>\n",
       "      <th>4/13/20</th>\n",
       "      <th>4/14/20</th>\n",
       "      <th>4/15/20</th>\n",
       "      <th>4/16/20</th>\n",
       "      <th>4/17/20</th>\n",
       "      <th>4/18/20</th>\n",
       "      <th>4/19/20</th>\n",
       "      <th>4/20/20</th>\n",
       "      <th>4/21/20</th>\n",
       "    </tr>\n",
       "  </thead>\n",
       "  <tbody>\n",
       "    <tr>\n",
       "      <th>225</th>\n",
       "      <td>NaN</td>\n",
       "      <td>US</td>\n",
       "      <td>37.0902</td>\n",
       "      <td>-95.7129</td>\n",
       "      <td>0</td>\n",
       "      <td>0</td>\n",
       "      <td>0</td>\n",
       "      <td>0</td>\n",
       "      <td>0</td>\n",
       "      <td>0</td>\n",
       "      <td>...</td>\n",
       "      <td>32988</td>\n",
       "      <td>43482</td>\n",
       "      <td>47763</td>\n",
       "      <td>52096</td>\n",
       "      <td>54703</td>\n",
       "      <td>58545</td>\n",
       "      <td>64840</td>\n",
       "      <td>70337</td>\n",
       "      <td>72329</td>\n",
       "      <td>75204</td>\n",
       "    </tr>\n",
       "  </tbody>\n",
       "</table>\n",
       "<p>1 rows × 95 columns</p>\n",
       "</div>"
      ],
      "text/plain": [
       "    Province/State Country/Region      Lat     Long  1/22/20  1/23/20  \\\n",
       "225            NaN             US  37.0902 -95.7129        0        0   \n",
       "\n",
       "     1/24/20  1/25/20  1/26/20  1/27/20   ...     4/12/20  4/13/20  4/14/20  \\\n",
       "225        0        0        0        0   ...       32988    43482    47763   \n",
       "\n",
       "     4/15/20  4/16/20  4/17/20  4/18/20  4/19/20  4/20/20  4/21/20  \n",
       "225    52096    54703    58545    64840    70337    72329    75204  \n",
       "\n",
       "[1 rows x 95 columns]"
      ]
     },
     "execution_count": 32,
     "metadata": {},
     "output_type": "execute_result"
    }
   ],
   "source": [
    "us_recovered.head()"
   ]
  },
  {
   "cell_type": "code",
   "execution_count": 33,
   "metadata": {},
   "outputs": [],
   "source": [
    "us_diff = us_confirmed.values[0][4:] - us_recovered.values[0][4:]# Confirmed - Recovered"
   ]
  },
  {
   "cell_type": "code",
   "execution_count": 34,
   "metadata": {},
   "outputs": [
    {
     "data": {
      "image/png": "[encoded data removed]",
      "text/plain": [
       "<Figure size 432x288 with 1 Axes>"
      ]
     },
     "metadata": {
      "needs_background": "light"
     },
     "output_type": "display_data"
    }
   ],
   "source": [
    "covidPlotter.plot_bar_active(us_diff,'US','Confirmed - Recovered') "
   ]
  },
  {
   "cell_type": "markdown",
   "metadata": {},
   "source": [
    "Now we'll do the same for China"
   ]
  },
  {
   "cell_type": "code",
   "execution_count": 35,
   "metadata": {},
   "outputs": [
    {
     "data": {
      "text/html": [
       "<div>\n",
       "<style scoped>\n",
       "    .dataframe tbody tr th:only-of-type {\n",
       "        vertical-align: middle;\n",
       "    }\n",
       "\n",
       "    .dataframe tbody tr th {\n",
       "        vertical-align: top;\n",
       "    }\n",
       "\n",
       "    .dataframe thead th {\n",
       "        text-align: right;\n",
       "    }\n",
       "</style>\n",
       "<table border=\"1\" class=\"dataframe\">\n",
       "  <thead>\n",
       "    <tr style=\"text-align: right;\">\n",
       "      <th></th>\n",
       "      <th>Country/Region</th>\n",
       "      <th>Lat</th>\n",
       "      <th>Long</th>\n",
       "      <th>1/22/20</th>\n",
       "      <th>1/23/20</th>\n",
       "      <th>1/24/20</th>\n",
       "      <th>1/25/20</th>\n",
       "      <th>1/26/20</th>\n",
       "      <th>1/27/20</th>\n",
       "      <th>1/28/20</th>\n",
       "      <th>...</th>\n",
       "      <th>4/12/20</th>\n",
       "      <th>4/13/20</th>\n",
       "      <th>4/14/20</th>\n",
       "      <th>4/15/20</th>\n",
       "      <th>4/16/20</th>\n",
       "      <th>4/17/20</th>\n",
       "      <th>4/18/20</th>\n",
       "      <th>4/19/20</th>\n",
       "      <th>4/20/20</th>\n",
       "      <th>4/21/20</th>\n",
       "    </tr>\n",
       "  </thead>\n",
       "  <tbody>\n",
       "    <tr>\n",
       "      <th>0</th>\n",
       "      <td>China</td>\n",
       "      <td>1083.3367</td>\n",
       "      <td>3684.4197</td>\n",
       "      <td>548</td>\n",
       "      <td>643</td>\n",
       "      <td>920</td>\n",
       "      <td>1406</td>\n",
       "      <td>2075</td>\n",
       "      <td>2877</td>\n",
       "      <td>5509</td>\n",
       "      <td>...</td>\n",
       "      <td>83134</td>\n",
       "      <td>83213</td>\n",
       "      <td>83306</td>\n",
       "      <td>83356</td>\n",
       "      <td>83403</td>\n",
       "      <td>83760</td>\n",
       "      <td>83787</td>\n",
       "      <td>83805</td>\n",
       "      <td>83817</td>\n",
       "      <td>83853</td>\n",
       "    </tr>\n",
       "  </tbody>\n",
       "</table>\n",
       "<p>1 rows × 94 columns</p>\n",
       "</div>"
      ],
      "text/plain": [
       "  Country/Region        Lat       Long  1/22/20  1/23/20  1/24/20  1/25/20  \\\n",
       "0          China  1083.3367  3684.4197      548      643      920     1406   \n",
       "\n",
       "   1/26/20  1/27/20  1/28/20   ...     4/12/20  4/13/20  4/14/20  4/15/20  \\\n",
       "0     2075     2877     5509   ...       83134    83213    83306    83356   \n",
       "\n",
       "   4/16/20  4/17/20  4/18/20  4/19/20  4/20/20  4/21/20  \n",
       "0    83403    83760    83787    83805    83817    83853  \n",
       "\n",
       "[1 rows x 94 columns]"
      ]
     },
     "execution_count": 35,
     "metadata": {},
     "output_type": "execute_result"
    }
   ],
   "source": [
    "china_confirmed = china_confirmed.groupby(['Country/Region']).sum().reset_index()\n",
    "china_confirmed.head()"
   ]
  },
  {
   "cell_type": "code",
   "execution_count": 36,
   "metadata": {},
   "outputs": [
    {
     "data": {
      "text/html": [
       "<div>\n",
       "<style scoped>\n",
       "    .dataframe tbody tr th:only-of-type {\n",
       "        vertical-align: middle;\n",
       "    }\n",
       "\n",
       "    .dataframe tbody tr th {\n",
       "        vertical-align: top;\n",
       "    }\n",
       "\n",
       "    .dataframe thead th {\n",
       "        text-align: right;\n",
       "    }\n",
       "</style>\n",
       "<table border=\"1\" class=\"dataframe\">\n",
       "  <thead>\n",
       "    <tr style=\"text-align: right;\">\n",
       "      <th></th>\n",
       "      <th>Country/Region</th>\n",
       "      <th>Lat</th>\n",
       "      <th>Long</th>\n",
       "      <th>1/22/20</th>\n",
       "      <th>1/23/20</th>\n",
       "      <th>1/24/20</th>\n",
       "      <th>1/25/20</th>\n",
       "      <th>1/26/20</th>\n",
       "      <th>1/27/20</th>\n",
       "      <th>1/28/20</th>\n",
       "      <th>...</th>\n",
       "      <th>4/12/20</th>\n",
       "      <th>4/13/20</th>\n",
       "      <th>4/14/20</th>\n",
       "      <th>4/15/20</th>\n",
       "      <th>4/16/20</th>\n",
       "      <th>4/17/20</th>\n",
       "      <th>4/18/20</th>\n",
       "      <th>4/19/20</th>\n",
       "      <th>4/20/20</th>\n",
       "      <th>4/21/20</th>\n",
       "    </tr>\n",
       "  </thead>\n",
       "  <tbody>\n",
       "    <tr>\n",
       "      <th>0</th>\n",
       "      <td>China</td>\n",
       "      <td>1083.3367</td>\n",
       "      <td>3684.4197</td>\n",
       "      <td>28</td>\n",
       "      <td>30</td>\n",
       "      <td>36</td>\n",
       "      <td>39</td>\n",
       "      <td>49</td>\n",
       "      <td>58</td>\n",
       "      <td>101</td>\n",
       "      <td>...</td>\n",
       "      <td>77956</td>\n",
       "      <td>78039</td>\n",
       "      <td>78200</td>\n",
       "      <td>78311</td>\n",
       "      <td>78401</td>\n",
       "      <td>77552</td>\n",
       "      <td>77614</td>\n",
       "      <td>77690</td>\n",
       "      <td>77745</td>\n",
       "      <td>77799</td>\n",
       "    </tr>\n",
       "  </tbody>\n",
       "</table>\n",
       "<p>1 rows × 94 columns</p>\n",
       "</div>"
      ],
      "text/plain": [
       "  Country/Region        Lat       Long  1/22/20  1/23/20  1/24/20  1/25/20  \\\n",
       "0          China  1083.3367  3684.4197       28       30       36       39   \n",
       "\n",
       "   1/26/20  1/27/20  1/28/20   ...     4/12/20  4/13/20  4/14/20  4/15/20  \\\n",
       "0       49       58      101   ...       77956    78039    78200    78311   \n",
       "\n",
       "   4/16/20  4/17/20  4/18/20  4/19/20  4/20/20  4/21/20  \n",
       "0    78401    77552    77614    77690    77745    77799  \n",
       "\n",
       "[1 rows x 94 columns]"
      ]
     },
     "execution_count": 36,
     "metadata": {},
     "output_type": "execute_result"
    }
   ],
   "source": [
    "china_recovered = china_recovered.groupby(['Country/Region']).sum().reset_index()\n",
    "china_recovered.head()"
   ]
  },
  {
   "cell_type": "code",
   "execution_count": 37,
   "metadata": {},
   "outputs": [
    {
     "name": "stdout",
     "output_type": "stream",
     "text": [
      "[613 884 1367 2026 2819 5408 5967 8006 9588 11616 16167 19102 22864 26325\n",
      " 29110 32111 34218 36610 38436 39750 39677 53678 58381 59115 59758 59972\n",
      " 60005 58657 57063 56846 54302 53835 52226 50078 48082 45670 42599 40036\n",
      " 37770 35282 32811 30385 28245 26746 25231 23435 22056 20706 19277 18031\n",
      " 16749 15317 13986 13123 12260 11347 10621 9984 9448 9073 8684 8311 7888\n",
      " 7601 7177 6899 6540 6275 6073 5956 5867 5751 5597 5395 5355 5308 5242\n",
      " 5204 5150 5137 5178 5174 5106 5045 5002 6208 6173 6115 6072 6054]\n"
     ]
    }
   ],
   "source": [
    "china_diff = china_confirmed.values[0][4:] - china_recovered.values[0][4:]# Confirmed - Recovered\n",
    "print(china_diff)"
   ]
  },
  {
   "cell_type": "code",
   "execution_count": 38,
   "metadata": {},
   "outputs": [
    {
     "data": {
      "image/png": "[encoded data removed]",
      "text/plain": [
       "<Figure size 432x288 with 1 Axes>"
      ]
     },
     "metadata": {
      "needs_background": "light"
     },
     "output_type": "display_data"
    }
   ],
   "source": [
    "covidPlotter.plot_bar_active(china_diff,'China','Confirmed - Recovered') "
   ]
  },
  {
   "cell_type": "markdown",
   "metadata": {},
   "source": [
    "# POPULATION "
   ]
  },
  {
   "cell_type": "markdown",
   "metadata": {},
   "source": [
    "First We need to make sure both dataframes keys are matching"
   ]
  },
  {
   "cell_type": "code",
   "execution_count": 39,
   "metadata": {},
   "outputs": [],
   "source": [
    "population.country[population.country == 'United States']  = 'US'\n",
    "population.country[population.country == 'Taiwan']  = 'Taiwan*'\n",
    "population.country[population.country == 'South Korea']  = 'Korea, South'\n",
    "population.country[population.country == \"Côte d'Ivoire\"]  = \"Cote d'Ivoire\"\n",
    "population.country[population.country == \"Czech Republic (Czechia)\"]  = \"Czechia\"\n",
    "population.country[population.country == 'St. Vincent & Grenadines']  = 'Saint Vincent and the Grenadines'\n",
    "population.country[population.country == 'Saint Kitts & Nevis']  = 'Saint Kitts and Nevis'\n",
    "population.country[population.country == 'Sao Tome & Principe']  = 'Sao Tome and Principe'\n",
    "\n",
    "countries = population['country'].tolist()\n",
    "# Matching both Sets by Hand\n",
    "#\n",
    "#for country in sorted(countries):\n",
    "#    if country not in unique_countries:\n",
    "#        print(country)\n",
    "#\n",
    "#for country in sorted(unique_countries):\n",
    "#    if country not in countries:\n",
    "#        print(country)\n"
   ]
  },
  {
   "cell_type": "markdown",
   "metadata": {},
   "source": [
    "## Plot of Population vs Confirmed Cases"
   ]
  },
  {
   "cell_type": "code",
   "execution_count": 40,
   "metadata": {},
   "outputs": [
    {
     "data": {
      "image/png": "[encoded data removed]",
      "text/plain": [
       "<Figure size 432x288 with 1 Axes>"
      ]
     },
     "metadata": {
      "needs_background": "light"
     },
     "output_type": "display_data"
    }
   ],
   "source": [
    "import numpy\n",
    "fig, ax = plt.subplots(1, 1)\n",
    "x = []\n",
    "y = []\n",
    "labels = []\n",
    "import sys\n",
    "covid_19_time_series_confirmed = covid_19_time_series_confirmed.groupby(['Country/Region']).sum().reset_index()\n",
    "for index, row in covid_19_time_series_confirmed.iterrows():\n",
    "    for index, row_pop in population.iterrows():\n",
    "        if row_pop['country'] == row['Country/Region']:\n",
    "            if row[-1] < 5000: # If number of Confirmed Cases < 5000\n",
    "                continue\n",
    "            #print(\"Country: {}, Cases: {}, Population: {}\".format(\n",
    "            #      row['Country/Region'], row[-1], row_pop['population'] ))\n",
    "            x.append(int(row_pop['population']))\n",
    "            y.append(int(row[-1]))\n",
    "            labels.append(row['Country/Region'])\n",
    "            break\n",
    "plt.scatter(x,y)\n",
    "plt.xlabel(\"Population\")\n",
    "plt.ylabel(\"Confirmed Cases\")\n",
    "plt.show()"
   ]
  },
  {
   "cell_type": "markdown",
   "metadata": {},
   "source": [
    "## Plot of Population vs Confirmed Deaths"
   ]
  },
  {
   "cell_type": "code",
   "execution_count": 41,
   "metadata": {},
   "outputs": [
    {
     "data": {
      "image/png": "[encoded data removed]",
      "text/plain": [
       "<Figure size 432x288 with 1 Axes>"
      ]
     },
     "metadata": {
      "needs_background": "light"
     },
     "output_type": "display_data"
    }
   ],
   "source": [
    "import numpy\n",
    "fig, ax = plt.subplots(1, 1)\n",
    "x = []\n",
    "y = []\n",
    "import sys\n",
    "covid_19_time_series_deaths = covid_19_time_series_deaths.groupby(['Country/Region']).sum().reset_index()\n",
    "for index, row in covid_19_time_series_deaths.iterrows():\n",
    "    for index, row_pop in population.iterrows():\n",
    "        if (row_pop['country'] == row['Country/Region']) and (row['Country/Region'] in labels):\n",
    "\n",
    "            #print(\"Country: {}, Deaths: {}, Population: {}\".format(\n",
    "            #      row['Country/Region'], row[-1], row_pop['population'] ))\n",
    "            x.append(int(row_pop['population']))\n",
    "            y.append(int(row[-1]))\n",
    "            labels.append(row['Country/Region'])\n",
    "            break\n",
    "plt.scatter(x,y)\n",
    "plt.xlabel(\"Population\")\n",
    "plt.ylabel(\"Confirmed Deaths\")\n",
    "plt.show()"
   ]
  },
  {
   "cell_type": "markdown",
   "metadata": {},
   "source": [
    "# POPULATION DENSITY"
   ]
  },
  {
   "cell_type": "code",
   "execution_count": 42,
   "metadata": {},
   "outputs": [
    {
     "data": {
      "image/png": "[encoded data removed]",
      "text/plain": [
       "<Figure size 432x288 with 1 Axes>"
      ]
     },
     "metadata": {
      "needs_background": "light"
     },
     "output_type": "display_data"
    }
   ],
   "source": [
    "import numpy\n",
    "fig, ax = plt.subplots(1, 1)\n",
    "x = []\n",
    "y = []\n",
    "labels = []\n",
    "import sys\n",
    "covid_19_time_series_confirmed = covid_19_time_series_confirmed.groupby(['Country/Region']).sum().reset_index()\n",
    "for index, row in covid_19_time_series_confirmed.iterrows():\n",
    "    for index, row_pop in population.iterrows():\n",
    "        if row_pop['country'] == row['Country/Region']:\n",
    "            if row[-1] < 5000: # If number of Confirmed Cases < 5000\n",
    "                continue\n",
    "            #print(\"Country: {}, Cases: {}, Population Density: {}\".format(\n",
    "            #      row['Country/Region'], row[-1], row_pop['denstity(P/Km2)'] ))\n",
    "            if int(row_pop['denstity(P/Km2)']) > 1000:\n",
    "                continue\n",
    "            x.append(int(row_pop['denstity(P/Km2)']))\n",
    "            y.append(int(row[-1]))\n",
    "            labels.append(row['Country/Region'])\n",
    "            break\n",
    "plt.scatter(x,y)\n",
    "plt.xlabel(\"Population Denstity(P/Km2)\")\n",
    "plt.ylabel(\"Confirmed Cases\")\n",
    "plt.show()"
   ]
  },
  {
   "cell_type": "markdown",
   "metadata": {},
   "source": [
    "# Checkpoint Save data as csv"
   ]
  },
  {
   "cell_type": "code",
   "execution_count": 43,
   "metadata": {},
   "outputs": [
    {
     "name": "stdout",
     "output_type": "stream",
     "text": [
      "Skipped: Brunei\n",
      "Skipped: Burma\n",
      "Skipped: Congo (Brazzaville)\n",
      "Skipped: Congo (Kinshasa)\n",
      "Skipped: Diamond Princess\n",
      "Skipped: Kosovo\n",
      "Skipped: MS Zaandam\n",
      "Skipped: West Bank and Gaza\n"
     ]
    }
   ],
   "source": [
    "master = []\n",
    "master.append([\"country\", \"population\", \"yearlyChange\",\"netChange\",\"denstity(P/Km2)\",\n",
    "             \"landArea(km2)\", \"migrants\", \"fertRate\",\"medAge\", \"urbanPop\",\"worldShare\", \n",
    "            \"confirmed\", \"deaths\", \"recovered\"])\n",
    "covid_19_time_series_confirmed = covid_19_time_series_confirmed.groupby(['Country/Region']).sum().reset_index()\n",
    "covid_19_time_series_deaths    =  covid_19_time_series_deaths.groupby(['Country/Region']).sum().reset_index()\n",
    "covid_19_time_series_recovered =  covid_19_time_series_recovered.groupby(['Country/Region']).sum().reset_index()\n",
    "for country in sorted(unique_countries):\n",
    "    a = covid_19_time_series_confirmed.loc[covid_19_time_series_confirmed['Country/Region'] == country]\n",
    "\n",
    "    b = covid_19_time_series_deaths.loc[covid_19_time_series_deaths['Country/Region'] == country]\n",
    "\n",
    "    c = covid_19_time_series_recovered.loc[covid_19_time_series_recovered['Country/Region'] == country]\n",
    "\n",
    "    d = population.loc[population['country'] == country]\n",
    "\n",
    "    try:\n",
    "        tmp = []\n",
    "        if country == 'Korea, South':\n",
    "            country = \"South Korea\"\n",
    "        tmp = [country] + list(d.values[0][1:]) + [a.values[-1][-1],b.values[-1][-1],c.values[-1][-1]]\n",
    "        master.append(tmp)\n",
    "    except:\n",
    "        print(\"Skipped: {}\".format(country))\n",
    "import numpy\n",
    "a = numpy.asarray(master)\n",
    "numpy.savetxt(\"project_covid.csv\", a, delimiter=\",\",fmt='%s')\n"
   ]
  },
  {
   "cell_type": "markdown",
   "metadata": {},
   "source": [
    "# Start From Checkpoint"
   ]
  },
  {
   "cell_type": "code",
   "execution_count": 44,
   "metadata": {},
   "outputs": [],
   "source": [
    "world = pandas.read_csv(\"project_covid.csv\")#, error_bad_lines=False)"
   ]
  },
  {
   "cell_type": "code",
   "execution_count": 45,
   "metadata": {},
   "outputs": [
    {
     "data": {
      "text/html": [
       "<div>\n",
       "<style scoped>\n",
       "    .dataframe tbody tr th:only-of-type {\n",
       "        vertical-align: middle;\n",
       "    }\n",
       "\n",
       "    .dataframe tbody tr th {\n",
       "        vertical-align: top;\n",
       "    }\n",
       "\n",
       "    .dataframe thead th {\n",
       "        text-align: right;\n",
       "    }\n",
       "</style>\n",
       "<table border=\"1\" class=\"dataframe\">\n",
       "  <thead>\n",
       "    <tr style=\"text-align: right;\">\n",
       "      <th></th>\n",
       "      <th>country</th>\n",
       "      <th>population</th>\n",
       "      <th>yearlyChange</th>\n",
       "      <th>netChange</th>\n",
       "      <th>denstity(P/Km2)</th>\n",
       "      <th>landArea(km2)</th>\n",
       "      <th>migrants</th>\n",
       "      <th>fertRate</th>\n",
       "      <th>medAge</th>\n",
       "      <th>urbanPop</th>\n",
       "      <th>worldShare</th>\n",
       "      <th>confirmed</th>\n",
       "      <th>deaths</th>\n",
       "      <th>recovered</th>\n",
       "    </tr>\n",
       "  </thead>\n",
       "  <tbody>\n",
       "    <tr>\n",
       "      <th>0</th>\n",
       "      <td>Afghanistan</td>\n",
       "      <td>38928346</td>\n",
       "      <td>2.33 %</td>\n",
       "      <td>886592</td>\n",
       "      <td>60</td>\n",
       "      <td>652860</td>\n",
       "      <td>-62920</td>\n",
       "      <td>4.6</td>\n",
       "      <td>18</td>\n",
       "      <td>25 %</td>\n",
       "      <td>0.50 %</td>\n",
       "      <td>1092</td>\n",
       "      <td>36</td>\n",
       "      <td>150</td>\n",
       "    </tr>\n",
       "    <tr>\n",
       "      <th>1</th>\n",
       "      <td>Albania</td>\n",
       "      <td>2877797</td>\n",
       "      <td>-0.11 %</td>\n",
       "      <td>-3120</td>\n",
       "      <td>105</td>\n",
       "      <td>27400</td>\n",
       "      <td>-14000</td>\n",
       "      <td>1.6</td>\n",
       "      <td>36</td>\n",
       "      <td>63 %</td>\n",
       "      <td>0.04 %</td>\n",
       "      <td>609</td>\n",
       "      <td>26</td>\n",
       "      <td>345</td>\n",
       "    </tr>\n",
       "    <tr>\n",
       "      <th>2</th>\n",
       "      <td>Algeria</td>\n",
       "      <td>43851044</td>\n",
       "      <td>1.85 %</td>\n",
       "      <td>797990</td>\n",
       "      <td>18</td>\n",
       "      <td>2381740</td>\n",
       "      <td>-10000</td>\n",
       "      <td>3.1</td>\n",
       "      <td>29</td>\n",
       "      <td>73 %</td>\n",
       "      <td>0.56 %</td>\n",
       "      <td>2811</td>\n",
       "      <td>392</td>\n",
       "      <td>1152</td>\n",
       "    </tr>\n",
       "    <tr>\n",
       "      <th>3</th>\n",
       "      <td>Andorra</td>\n",
       "      <td>77265</td>\n",
       "      <td>0.16 %</td>\n",
       "      <td>123</td>\n",
       "      <td>164</td>\n",
       "      <td>470</td>\n",
       "      <td></td>\n",
       "      <td>N.A.</td>\n",
       "      <td>N.A.</td>\n",
       "      <td>88 %</td>\n",
       "      <td>0.00 %</td>\n",
       "      <td>717</td>\n",
       "      <td>37</td>\n",
       "      <td>282</td>\n",
       "    </tr>\n",
       "    <tr>\n",
       "      <th>4</th>\n",
       "      <td>Angola</td>\n",
       "      <td>32866272</td>\n",
       "      <td>3.27 %</td>\n",
       "      <td>1040977</td>\n",
       "      <td>26</td>\n",
       "      <td>1246700</td>\n",
       "      <td>6413</td>\n",
       "      <td>5.6</td>\n",
       "      <td>17</td>\n",
       "      <td>67 %</td>\n",
       "      <td>0.42 %</td>\n",
       "      <td>24</td>\n",
       "      <td>2</td>\n",
       "      <td>6</td>\n",
       "    </tr>\n",
       "  </tbody>\n",
       "</table>\n",
       "</div>"
      ],
      "text/plain": [
       "       country  population yearlyChange  netChange  denstity(P/Km2)  \\\n",
       "0  Afghanistan    38928346       2.33 %     886592               60   \n",
       "1      Albania     2877797      -0.11 %      -3120              105   \n",
       "2      Algeria    43851044       1.85 %     797990               18   \n",
       "3      Andorra       77265       0.16 %        123              164   \n",
       "4       Angola    32866272       3.27 %    1040977               26   \n",
       "\n",
       "   landArea(km2) migrants fertRate medAge urbanPop worldShare  confirmed  \\\n",
       "0         652860   -62920      4.6     18     25 %     0.50 %       1092   \n",
       "1          27400   -14000      1.6     36     63 %     0.04 %        609   \n",
       "2        2381740   -10000      3.1     29     73 %     0.56 %       2811   \n",
       "3            470              N.A.   N.A.     88 %     0.00 %        717   \n",
       "4        1246700     6413      5.6     17     67 %     0.42 %         24   \n",
       "\n",
       "   deaths  recovered  \n",
       "0      36        150  \n",
       "1      26        345  \n",
       "2     392       1152  \n",
       "3      37        282  \n",
       "4       2          6  "
      ]
     },
     "execution_count": 45,
     "metadata": {},
     "output_type": "execute_result"
    }
   ],
   "source": [
    "world.head()"
   ]
  },
  {
   "cell_type": "code",
   "execution_count": 46,
   "metadata": {},
   "outputs": [],
   "source": [
    "# pandas drop columns using list of column names\n",
    "world = world.drop(['yearlyChange', 'netChange', 'migrants','fertRate', 'urbanPop','worldShare'], axis=1)"
   ]
  },
  {
   "cell_type": "code",
   "execution_count": 47,
   "metadata": {},
   "outputs": [
    {
     "data": {
      "text/html": [
       "<div>\n",
       "<style scoped>\n",
       "    .dataframe tbody tr th:only-of-type {\n",
       "        vertical-align: middle;\n",
       "    }\n",
       "\n",
       "    .dataframe tbody tr th {\n",
       "        vertical-align: top;\n",
       "    }\n",
       "\n",
       "    .dataframe thead th {\n",
       "        text-align: right;\n",
       "    }\n",
       "</style>\n",
       "<table border=\"1\" class=\"dataframe\">\n",
       "  <thead>\n",
       "    <tr style=\"text-align: right;\">\n",
       "      <th></th>\n",
       "      <th>country</th>\n",
       "      <th>population</th>\n",
       "      <th>denstity(P/Km2)</th>\n",
       "      <th>landArea(km2)</th>\n",
       "      <th>medAge</th>\n",
       "      <th>confirmed</th>\n",
       "      <th>deaths</th>\n",
       "      <th>recovered</th>\n",
       "    </tr>\n",
       "  </thead>\n",
       "  <tbody>\n",
       "    <tr>\n",
       "      <th>0</th>\n",
       "      <td>Afghanistan</td>\n",
       "      <td>38928346</td>\n",
       "      <td>60</td>\n",
       "      <td>652860</td>\n",
       "      <td>18</td>\n",
       "      <td>1092</td>\n",
       "      <td>36</td>\n",
       "      <td>150</td>\n",
       "    </tr>\n",
       "    <tr>\n",
       "      <th>1</th>\n",
       "      <td>Albania</td>\n",
       "      <td>2877797</td>\n",
       "      <td>105</td>\n",
       "      <td>27400</td>\n",
       "      <td>36</td>\n",
       "      <td>609</td>\n",
       "      <td>26</td>\n",
       "      <td>345</td>\n",
       "    </tr>\n",
       "    <tr>\n",
       "      <th>2</th>\n",
       "      <td>Algeria</td>\n",
       "      <td>43851044</td>\n",
       "      <td>18</td>\n",
       "      <td>2381740</td>\n",
       "      <td>29</td>\n",
       "      <td>2811</td>\n",
       "      <td>392</td>\n",
       "      <td>1152</td>\n",
       "    </tr>\n",
       "    <tr>\n",
       "      <th>3</th>\n",
       "      <td>Andorra</td>\n",
       "      <td>77265</td>\n",
       "      <td>164</td>\n",
       "      <td>470</td>\n",
       "      <td>N.A.</td>\n",
       "      <td>717</td>\n",
       "      <td>37</td>\n",
       "      <td>282</td>\n",
       "    </tr>\n",
       "    <tr>\n",
       "      <th>4</th>\n",
       "      <td>Angola</td>\n",
       "      <td>32866272</td>\n",
       "      <td>26</td>\n",
       "      <td>1246700</td>\n",
       "      <td>17</td>\n",
       "      <td>24</td>\n",
       "      <td>2</td>\n",
       "      <td>6</td>\n",
       "    </tr>\n",
       "  </tbody>\n",
       "</table>\n",
       "</div>"
      ],
      "text/plain": [
       "       country  population  denstity(P/Km2)  landArea(km2) medAge  confirmed  \\\n",
       "0  Afghanistan    38928346               60         652860     18       1092   \n",
       "1      Albania     2877797              105          27400     36        609   \n",
       "2      Algeria    43851044               18        2381740     29       2811   \n",
       "3      Andorra       77265              164            470   N.A.        717   \n",
       "4       Angola    32866272               26        1246700     17         24   \n",
       "\n",
       "   deaths  recovered  \n",
       "0      36        150  \n",
       "1      26        345  \n",
       "2     392       1152  \n",
       "3      37        282  \n",
       "4       2          6  "
      ]
     },
     "execution_count": 47,
     "metadata": {},
     "output_type": "execute_result"
    }
   ],
   "source": [
    "world.head()"
   ]
  },
  {
   "cell_type": "code",
   "execution_count": 48,
   "metadata": {},
   "outputs": [
    {
     "data": {
      "text/html": [
       "<div>\n",
       "<style scoped>\n",
       "    .dataframe tbody tr th:only-of-type {\n",
       "        vertical-align: middle;\n",
       "    }\n",
       "\n",
       "    .dataframe tbody tr th {\n",
       "        vertical-align: top;\n",
       "    }\n",
       "\n",
       "    .dataframe thead th {\n",
       "        text-align: right;\n",
       "    }\n",
       "</style>\n",
       "<table border=\"1\" class=\"dataframe\">\n",
       "  <thead>\n",
       "    <tr style=\"text-align: right;\">\n",
       "      <th></th>\n",
       "      <th>population</th>\n",
       "      <th>denstity(P/Km2)</th>\n",
       "      <th>landArea(km2)</th>\n",
       "      <th>confirmed</th>\n",
       "      <th>deaths</th>\n",
       "      <th>recovered</th>\n",
       "    </tr>\n",
       "  </thead>\n",
       "  <tbody>\n",
       "    <tr>\n",
       "      <th>count</th>\n",
       "      <td>1.770000e+02</td>\n",
       "      <td>177.000000</td>\n",
       "      <td>1.770000e+02</td>\n",
       "      <td>177.000000</td>\n",
       "      <td>177.000000</td>\n",
       "      <td>177.000000</td>\n",
       "    </tr>\n",
       "    <tr>\n",
       "      <th>mean</th>\n",
       "      <td>4.281653e+07</td>\n",
       "      <td>371.988701</td>\n",
       "      <td>7.088279e+05</td>\n",
       "      <td>14455.209040</td>\n",
       "      <td>999.519774</td>\n",
       "      <td>3835.237288</td>\n",
       "    </tr>\n",
       "    <tr>\n",
       "      <th>std</th>\n",
       "      <td>1.543958e+08</td>\n",
       "      <td>2079.842564</td>\n",
       "      <td>1.912218e+06</td>\n",
       "      <td>68199.005332</td>\n",
       "      <td>4636.438933</td>\n",
       "      <td>14067.696809</td>\n",
       "    </tr>\n",
       "    <tr>\n",
       "      <th>min</th>\n",
       "      <td>8.010000e+02</td>\n",
       "      <td>2.000000</td>\n",
       "      <td>0.000000e+00</td>\n",
       "      <td>1.000000</td>\n",
       "      <td>0.000000</td>\n",
       "      <td>0.000000</td>\n",
       "    </tr>\n",
       "    <tr>\n",
       "      <th>25%</th>\n",
       "      <td>2.722289e+06</td>\n",
       "      <td>34.000000</td>\n",
       "      <td>2.812000e+04</td>\n",
       "      <td>68.000000</td>\n",
       "      <td>2.000000</td>\n",
       "      <td>11.000000</td>\n",
       "    </tr>\n",
       "    <tr>\n",
       "      <th>50%</th>\n",
       "      <td>9.904607e+06</td>\n",
       "      <td>89.000000</td>\n",
       "      <td>1.433500e+05</td>\n",
       "      <td>677.000000</td>\n",
       "      <td>11.000000</td>\n",
       "      <td>150.000000</td>\n",
       "    </tr>\n",
       "    <tr>\n",
       "      <th>75%</th>\n",
       "      <td>3.107294e+07</td>\n",
       "      <td>214.000000</td>\n",
       "      <td>5.667300e+05</td>\n",
       "      <td>5044.000000</td>\n",
       "      <td>136.000000</td>\n",
       "      <td>840.000000</td>\n",
       "    </tr>\n",
       "    <tr>\n",
       "      <th>max</th>\n",
       "      <td>1.439324e+09</td>\n",
       "      <td>26337.000000</td>\n",
       "      <td>1.637687e+07</td>\n",
       "      <td>823786.000000</td>\n",
       "      <td>44845.000000</td>\n",
       "      <td>95200.000000</td>\n",
       "    </tr>\n",
       "  </tbody>\n",
       "</table>\n",
       "</div>"
      ],
      "text/plain": [
       "         population  denstity(P/Km2)  landArea(km2)      confirmed  \\\n",
       "count  1.770000e+02       177.000000   1.770000e+02     177.000000   \n",
       "mean   4.281653e+07       371.988701   7.088279e+05   14455.209040   \n",
       "std    1.543958e+08      2079.842564   1.912218e+06   68199.005332   \n",
       "min    8.010000e+02         2.000000   0.000000e+00       1.000000   \n",
       "25%    2.722289e+06        34.000000   2.812000e+04      68.000000   \n",
       "50%    9.904607e+06        89.000000   1.433500e+05     677.000000   \n",
       "75%    3.107294e+07       214.000000   5.667300e+05    5044.000000   \n",
       "max    1.439324e+09     26337.000000   1.637687e+07  823786.000000   \n",
       "\n",
       "             deaths     recovered  \n",
       "count    177.000000    177.000000  \n",
       "mean     999.519774   3835.237288  \n",
       "std     4636.438933  14067.696809  \n",
       "min        0.000000      0.000000  \n",
       "25%        2.000000     11.000000  \n",
       "50%       11.000000    150.000000  \n",
       "75%      136.000000    840.000000  \n",
       "max    44845.000000  95200.000000  "
      ]
     },
     "execution_count": 48,
     "metadata": {},
     "output_type": "execute_result"
    }
   ],
   "source": [
    "world.describe()"
   ]
  },
  {
   "cell_type": "code",
   "execution_count": 49,
   "metadata": {},
   "outputs": [
    {
     "data": {
      "text/plain": [
       "<Figure size 432x288 with 0 Axes>"
      ]
     },
     "metadata": {},
     "output_type": "display_data"
    }
   ],
   "source": [
    "plt.figure()\n",
    "plt.tight_layout()\n",
    "#seaborn.distplot(world['denstity(P/Km2)'])"
   ]
  },
  {
   "cell_type": "code",
   "execution_count": 50,
   "metadata": {},
   "outputs": [
    {
     "name": "stdout",
     "output_type": "stream",
     "text": [
      "Cases Baseline: 90000\n",
      "The Last Day reference: 4/21/20\n"
     ]
    }
   ],
   "source": [
    "baseline = 90000 # Number of cases you want to set as a baseline\n",
    "import matplotlib.dates as mdates\n",
    "\n",
    "print(\"Cases Baseline: {}\".format(baseline))\n",
    "\n",
    "# Since Data is one day off, the most up-to-date values are the previous day\n",
    "import datetime\n",
    "\n",
    "df  = covid_19_time_series_confirmed.groupby(['Country/Region']).sum().reset_index()\n",
    "try:\n",
    "  today = datetime.date.today()\n",
    "  yesterday = today - datetime.timedelta(days=1)\n",
    "  yesterday = '{}{}'.format(yesterday.month,yesterday.strftime('/%d/%y'))\n",
    "  df_subset = df[df[yesterday] > baseline ]\n",
    "\n",
    "except:\n",
    "  today = datetime.date.today()\n",
    "  yesterday = today - datetime.timedelta(days=2)\n",
    "  yesterday = '{}{}'.format(yesterday.month,yesterday.strftime('/%d/%y'))\n",
    "  df_subset = df[df[yesterday] > baseline ]\n",
    "\n",
    "print(\"The Last Day reference: {}\".format(yesterday))\n",
    "\n",
    "# Note Long and Lat are sums of Long and Lat"
   ]
  },
  {
   "cell_type": "code",
   "execution_count": 51,
   "metadata": {},
   "outputs": [
    {
     "name": "stdout",
     "output_type": "stream",
     "text": [
      "The Last Day reference: 4/21/20\n"
     ]
    },
    {
     "data": {
      "text/html": [
       "<div>\n",
       "<style scoped>\n",
       "    .dataframe tbody tr th:only-of-type {\n",
       "        vertical-align: middle;\n",
       "    }\n",
       "\n",
       "    .dataframe tbody tr th {\n",
       "        vertical-align: top;\n",
       "    }\n",
       "\n",
       "    .dataframe thead th {\n",
       "        text-align: right;\n",
       "    }\n",
       "</style>\n",
       "<table border=\"1\" class=\"dataframe\">\n",
       "  <thead>\n",
       "    <tr style=\"text-align: right;\">\n",
       "      <th></th>\n",
       "      <th>Country/Region</th>\n",
       "      <th>Lat</th>\n",
       "      <th>Long</th>\n",
       "      <th>1/22/20</th>\n",
       "      <th>1/23/20</th>\n",
       "      <th>1/24/20</th>\n",
       "      <th>1/25/20</th>\n",
       "      <th>1/26/20</th>\n",
       "      <th>1/27/20</th>\n",
       "      <th>1/28/20</th>\n",
       "      <th>...</th>\n",
       "      <th>4/12/20</th>\n",
       "      <th>4/13/20</th>\n",
       "      <th>4/14/20</th>\n",
       "      <th>4/15/20</th>\n",
       "      <th>4/16/20</th>\n",
       "      <th>4/17/20</th>\n",
       "      <th>4/18/20</th>\n",
       "      <th>4/19/20</th>\n",
       "      <th>4/20/20</th>\n",
       "      <th>4/21/20</th>\n",
       "    </tr>\n",
       "  </thead>\n",
       "  <tbody>\n",
       "    <tr>\n",
       "      <th>61</th>\n",
       "      <td>France</td>\n",
       "      <td>91.3624</td>\n",
       "      <td>59.7192</td>\n",
       "      <td>0</td>\n",
       "      <td>0</td>\n",
       "      <td>2</td>\n",
       "      <td>3</td>\n",
       "      <td>3</td>\n",
       "      <td>3</td>\n",
       "      <td>4</td>\n",
       "      <td>...</td>\n",
       "      <td>121712</td>\n",
       "      <td>125394</td>\n",
       "      <td>131361</td>\n",
       "      <td>134582</td>\n",
       "      <td>147091</td>\n",
       "      <td>149130</td>\n",
       "      <td>149149</td>\n",
       "      <td>154097</td>\n",
       "      <td>156480</td>\n",
       "      <td>159297</td>\n",
       "    </tr>\n",
       "    <tr>\n",
       "      <th>65</th>\n",
       "      <td>Germany</td>\n",
       "      <td>51.0000</td>\n",
       "      <td>9.0000</td>\n",
       "      <td>0</td>\n",
       "      <td>0</td>\n",
       "      <td>0</td>\n",
       "      <td>0</td>\n",
       "      <td>0</td>\n",
       "      <td>1</td>\n",
       "      <td>4</td>\n",
       "      <td>...</td>\n",
       "      <td>127854</td>\n",
       "      <td>130072</td>\n",
       "      <td>131359</td>\n",
       "      <td>134753</td>\n",
       "      <td>137698</td>\n",
       "      <td>141397</td>\n",
       "      <td>143342</td>\n",
       "      <td>145184</td>\n",
       "      <td>147065</td>\n",
       "      <td>148291</td>\n",
       "    </tr>\n",
       "    <tr>\n",
       "      <th>84</th>\n",
       "      <td>Italy</td>\n",
       "      <td>43.0000</td>\n",
       "      <td>12.0000</td>\n",
       "      <td>0</td>\n",
       "      <td>0</td>\n",
       "      <td>0</td>\n",
       "      <td>0</td>\n",
       "      <td>0</td>\n",
       "      <td>0</td>\n",
       "      <td>0</td>\n",
       "      <td>...</td>\n",
       "      <td>156363</td>\n",
       "      <td>159516</td>\n",
       "      <td>162488</td>\n",
       "      <td>165155</td>\n",
       "      <td>168941</td>\n",
       "      <td>172434</td>\n",
       "      <td>175925</td>\n",
       "      <td>178972</td>\n",
       "      <td>181228</td>\n",
       "      <td>183957</td>\n",
       "    </tr>\n",
       "    <tr>\n",
       "      <th>156</th>\n",
       "      <td>Spain</td>\n",
       "      <td>40.0000</td>\n",
       "      <td>-4.0000</td>\n",
       "      <td>0</td>\n",
       "      <td>0</td>\n",
       "      <td>0</td>\n",
       "      <td>0</td>\n",
       "      <td>0</td>\n",
       "      <td>0</td>\n",
       "      <td>0</td>\n",
       "      <td>...</td>\n",
       "      <td>166831</td>\n",
       "      <td>170099</td>\n",
       "      <td>172541</td>\n",
       "      <td>177644</td>\n",
       "      <td>184948</td>\n",
       "      <td>190839</td>\n",
       "      <td>191726</td>\n",
       "      <td>198674</td>\n",
       "      <td>200210</td>\n",
       "      <td>204178</td>\n",
       "    </tr>\n",
       "    <tr>\n",
       "      <th>171</th>\n",
       "      <td>US</td>\n",
       "      <td>37.0902</td>\n",
       "      <td>-95.7129</td>\n",
       "      <td>1</td>\n",
       "      <td>1</td>\n",
       "      <td>2</td>\n",
       "      <td>2</td>\n",
       "      <td>5</td>\n",
       "      <td>5</td>\n",
       "      <td>5</td>\n",
       "      <td>...</td>\n",
       "      <td>555313</td>\n",
       "      <td>580619</td>\n",
       "      <td>607670</td>\n",
       "      <td>636350</td>\n",
       "      <td>667592</td>\n",
       "      <td>699706</td>\n",
       "      <td>732197</td>\n",
       "      <td>759086</td>\n",
       "      <td>784326</td>\n",
       "      <td>823786</td>\n",
       "    </tr>\n",
       "  </tbody>\n",
       "</table>\n",
       "<p>5 rows × 94 columns</p>\n",
       "</div>"
      ],
      "text/plain": [
       "    Country/Region      Lat     Long  1/22/20  1/23/20  1/24/20  1/25/20  \\\n",
       "61          France  91.3624  59.7192        0        0        2        3   \n",
       "65         Germany  51.0000   9.0000        0        0        0        0   \n",
       "84           Italy  43.0000  12.0000        0        0        0        0   \n",
       "156          Spain  40.0000  -4.0000        0        0        0        0   \n",
       "171             US  37.0902 -95.7129        1        1        2        2   \n",
       "\n",
       "     1/26/20  1/27/20  1/28/20   ...     4/12/20  4/13/20  4/14/20  4/15/20  \\\n",
       "61         3        3        4   ...      121712   125394   131361   134582   \n",
       "65         0        1        4   ...      127854   130072   131359   134753   \n",
       "84         0        0        0   ...      156363   159516   162488   165155   \n",
       "156        0        0        0   ...      166831   170099   172541   177644   \n",
       "171        5        5        5   ...      555313   580619   607670   636350   \n",
       "\n",
       "     4/16/20  4/17/20  4/18/20  4/19/20  4/20/20  4/21/20  \n",
       "61    147091   149130   149149   154097   156480   159297  \n",
       "65    137698   141397   143342   145184   147065   148291  \n",
       "84    168941   172434   175925   178972   181228   183957  \n",
       "156   184948   190839   191726   198674   200210   204178  \n",
       "171   667592   699706   732197   759086   784326   823786  \n",
       "\n",
       "[5 rows x 94 columns]"
      ]
     },
     "execution_count": 51,
     "metadata": {},
     "output_type": "execute_result"
    }
   ],
   "source": [
    "import dataImporter\n",
    "baseline = 100000\n",
    "df_subset, yesterday = dataImporter.get_latest_subset(covid_19_time_series_confirmed, baseline)\n",
    "print(\"The Last Day reference: {}\".format(yesterday))\n",
    "df_subset.head()"
   ]
  },
  {
   "cell_type": "code",
   "execution_count": 55,
   "metadata": {
    "scrolled": true
   },
   "outputs": [
    {
     "name": "stdout",
     "output_type": "stream",
     "text": [
      "['France', 'Germany', 'Italy', 'Spain', 'US', 'United Kingdom']\n"
     ]
    },
    {
     "data": {
      "image/png": "[encoded data removed]",
      "text/plain": [
       "<Figure size 432x288 with 1 Axes>"
      ]
     },
     "metadata": {
      "needs_background": "light"
     },
     "output_type": "display_data"
    },
    {
     "data": {
      "image/png": "[encoded data removed]",
      "text/plain": [
       "<Figure size 432x288 with 1 Axes>"
      ]
     },
     "metadata": {
      "needs_background": "light"
     },
     "output_type": "display_data"
    },
    {
     "ename": "UnboundLocalError",
     "evalue": "local variable 'index' referenced before assignment",
     "output_type": "error",
     "traceback": [
      "\u001b[0;31m---------------------------------------------------------------------------\u001b[0m",
      "\u001b[0;31mUnboundLocalError\u001b[0m                         Traceback (most recent call last)",
      "\u001b[0;32m<ipython-input-55-7568579a82f6>\u001b[0m in \u001b[0;36m<module>\u001b[0;34m()\u001b[0m\n\u001b[1;32m      3\u001b[0m \u001b[0mcovidPlotter\u001b[0m\u001b[0;34m.\u001b[0m\u001b[0mplot_multi_countries\u001b[0m\u001b[0;34m(\u001b[0m\u001b[0munique_countries\u001b[0m\u001b[0;34m,\u001b[0m \u001b[0mpopulation\u001b[0m\u001b[0;34m,\u001b[0m \u001b[0mdf_subset\u001b[0m\u001b[0;34m,\u001b[0m\u001b[0myaxis\u001b[0m\u001b[0;34m=\u001b[0m\u001b[0;34m'confirmed'\u001b[0m\u001b[0;34m)\u001b[0m\u001b[0;34m\u001b[0m\u001b[0m\n\u001b[1;32m      4\u001b[0m \u001b[0mcovidPlotter\u001b[0m\u001b[0;34m.\u001b[0m\u001b[0mplot_multi_countries\u001b[0m\u001b[0;34m(\u001b[0m\u001b[0munique_countries\u001b[0m\u001b[0;34m,\u001b[0m \u001b[0mpopulation\u001b[0m\u001b[0;34m,\u001b[0m \u001b[0mdf_subset\u001b[0m\u001b[0;34m,\u001b[0m\u001b[0myaxis\u001b[0m\u001b[0;34m=\u001b[0m\u001b[0;34m'population'\u001b[0m\u001b[0;34m)\u001b[0m\u001b[0;34m\u001b[0m\u001b[0m\n\u001b[0;32m----> 5\u001b[0;31m \u001b[0mcovidPlotter\u001b[0m\u001b[0;34m.\u001b[0m\u001b[0mplot_multi_countries\u001b[0m\u001b[0;34m(\u001b[0m\u001b[0munique_countries\u001b[0m\u001b[0;34m,\u001b[0m \u001b[0mpopulation\u001b[0m\u001b[0;34m,\u001b[0m \u001b[0mdf_subset\u001b[0m\u001b[0;34m,\u001b[0m\u001b[0myaxis\u001b[0m\u001b[0;34m=\u001b[0m\u001b[0;34m'densiry'\u001b[0m\u001b[0;34m)\u001b[0m\u001b[0;34m\u001b[0m\u001b[0m\n\u001b[0m",
      "\u001b[0;32m/Users/awells/UVA/CS/apr_22_2020/cs-project-covid/covidPlotter.py\u001b[0m in \u001b[0;36mplot_multi_countries\u001b[0;34m(unique_countries, population, df_subset, yaxis)\u001b[0m\n\u001b[1;32m    106\u001b[0m         \u001b[0;32mfor\u001b[0m \u001b[0mcountry_date\u001b[0m \u001b[0;32min\u001b[0m \u001b[0mcountry_dates\u001b[0m\u001b[0;34m:\u001b[0m\u001b[0;34m\u001b[0m\u001b[0m\n\u001b[1;32m    107\u001b[0m             \u001b[0mx_value\u001b[0m \u001b[0;34m=\u001b[0m \u001b[0mdatetime\u001b[0m\u001b[0;34m.\u001b[0m\u001b[0mdatetime\u001b[0m\u001b[0;34m.\u001b[0m\u001b[0mstrptime\u001b[0m\u001b[0;34m(\u001b[0m\u001b[0mcountry_date\u001b[0m\u001b[0;34m,\u001b[0m\u001b[0;34m\"%m/%d/%y\"\u001b[0m\u001b[0;34m)\u001b[0m\u001b[0;34m.\u001b[0m\u001b[0mdate\u001b[0m\u001b[0;34m(\u001b[0m\u001b[0;34m)\u001b[0m\u001b[0;34m\u001b[0m\u001b[0m\n\u001b[0;32m--> 108\u001b[0;31m             \u001b[0my_value\u001b[0m \u001b[0;34m=\u001b[0m \u001b[0mdata\u001b[0m\u001b[0;34m[\u001b[0m\u001b[0mxCountry\u001b[0m\u001b[0;34m]\u001b[0m\u001b[0;34m[\u001b[0m\u001b[0mcountry_date\u001b[0m\u001b[0;34m]\u001b[0m\u001b[0;34m[\u001b[0m\u001b[0mindex\u001b[0m\u001b[0;34m]\u001b[0m\u001b[0;34m\u001b[0m\u001b[0m\n\u001b[0m\u001b[1;32m    109\u001b[0m             \u001b[0mx\u001b[0m\u001b[0;34m.\u001b[0m\u001b[0mappend\u001b[0m\u001b[0;34m(\u001b[0m\u001b[0mx_value\u001b[0m\u001b[0;34m)\u001b[0m\u001b[0;34m\u001b[0m\u001b[0m\n\u001b[1;32m    110\u001b[0m             \u001b[0my\u001b[0m\u001b[0;34m.\u001b[0m\u001b[0mappend\u001b[0m\u001b[0;34m(\u001b[0m\u001b[0my_value\u001b[0m\u001b[0;34m)\u001b[0m\u001b[0;34m\u001b[0m\u001b[0m\n",
      "\u001b[0;31mUnboundLocalError\u001b[0m: local variable 'index' referenced before assignment"
     ]
    }
   ],
   "source": [
    "unique_countries = sorted(df_subset['Country/Region'].unique())\n",
    "print(unique_countries)\n",
    "covidPlotter.plot_multi_countries(unique_countries, population, df_subset,yaxis='confirmed')\n",
    "covidPlotter.plot_multi_countries(unique_countries, population, df_subset,yaxis='population')\n",
    "covidPlotter.plot_multi_countries(unique_countries, population, df_subset,yaxis='density')"
   ]
  },
  {
   "cell_type": "code",
   "execution_count": null,
   "metadata": {},
   "outputs": [],
   "source": []
  }
 ],
 "metadata": {
  "kernelspec": {
   "display_name": "Python 3",
   "language": "python",
   "name": "python3"
  },
  "language_info": {
   "codemirror_mode": {
    "name": "ipython",
    "version": 3
   },
   "file_extension": ".py",
   "mimetype": "text/x-python",
   "name": "python",
   "nbconvert_exporter": "python",
   "pygments_lexer": "ipython3",
   "version": "3.5.6"
  }
 },
 "nbformat": 4,
 "nbformat_minor": 4
}
